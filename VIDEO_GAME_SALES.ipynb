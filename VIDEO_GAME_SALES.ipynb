{
  "nbformat": 4,
  "nbformat_minor": 0,
  "metadata": {
    "colab": {
      "name": "VIDEO GAME SALES.ipynb",
      "provenance": [],
      "collapsed_sections": [],
      "mount_file_id": "1ui6JNgugL8iGwYWLwf_HSOGwQP_UpOQF",
      "authorship_tag": "ABX9TyPgRwn/L3Q1XC3cdoGHcKZh",
      "include_colab_link": true
    },
    "kernelspec": {
      "name": "python3",
      "display_name": "Python 3"
    },
    "language_info": {
      "name": "python"
    }
  },
  "cells": [
    {
      "cell_type": "markdown",
      "metadata": {
        "id": "view-in-github",
        "colab_type": "text"
      },
      "source": [
        "<a href=\"https://colab.research.google.com/github/iamabhi9v/Video_Game_Sales/blob/main/VIDEO_GAME_SALES.ipynb\" target=\"_parent\"><img src=\"https://colab.research.google.com/assets/colab-badge.svg\" alt=\"Open In Colab\"/></a>"
      ]
    },
    {
      "cell_type": "markdown",
      "metadata": {
        "id": "VhdjZi5Ezvha"
      },
      "source": [
        "**IMPORTING OS ENVIRONMENT**"
      ]
    },
    {
      "cell_type": "code",
      "metadata": {
        "id": "HYBcvA1wJlHC"
      },
      "source": [
        "import os\n",
        "os.environ['KAGGLE_CONFIG_DIR'] = '/content'"
      ],
      "execution_count": 14,
      "outputs": []
    },
    {
      "cell_type": "markdown",
      "metadata": {
        "id": "dD5JsNzDLDPi"
      },
      "source": [
        "**VIDEO GAMES SALES**"
      ]
    },
    {
      "cell_type": "code",
      "metadata": {
        "colab": {
          "base_uri": "https://localhost:8080/"
        },
        "id": "YMZV-4jKJ-Fh",
        "outputId": "70d37f75-1743-4946-d4ec-f3ee052adb32"
      },
      "source": [
        "!kaggle datasets download -d gregorut/videogamesales"
      ],
      "execution_count": 15,
      "outputs": [
        {
          "output_type": "stream",
          "name": "stdout",
          "text": [
            "Warning: Your Kaggle API key is readable by other users on this system! To fix this, you can run 'chmod 600 /content/kaggle.json'\n",
            "Downloading videogamesales.zip to /content\n",
            "  0% 0.00/381k [00:00<?, ?B/s]\n",
            "100% 381k/381k [00:00<00:00, 93.2MB/s]\n"
          ]
        }
      ]
    },
    {
      "cell_type": "markdown",
      "metadata": {
        "id": "FqMEi8o7LITr"
      },
      "source": [
        "**UNZIP**"
      ]
    },
    {
      "cell_type": "code",
      "metadata": {
        "colab": {
          "base_uri": "https://localhost:8080/"
        },
        "id": "B1BNVEQTKMgL",
        "outputId": "7642980f-5c32-4b9b-bd7c-3dcb3c5bbf20"
      },
      "source": [
        "!unzip \\*.zip && rm *.zip"
      ],
      "execution_count": 16,
      "outputs": [
        {
          "output_type": "stream",
          "name": "stdout",
          "text": [
            "Archive:  videogamesales.zip\n",
            "  inflating: vgsales.csv             \n"
          ]
        }
      ]
    },
    {
      "cell_type": "markdown",
      "metadata": {
        "id": "H8La1R0LLRKT"
      },
      "source": [
        "**IMPORTING PANDAS**"
      ]
    },
    {
      "cell_type": "code",
      "metadata": {
        "id": "tztPbjMvKcGj"
      },
      "source": [
        "import pandas as pd"
      ],
      "execution_count": 17,
      "outputs": []
    },
    {
      "cell_type": "markdown",
      "metadata": {
        "id": "ekKLefChLWdO"
      },
      "source": [
        "**READ .CSV FIle**"
      ]
    },
    {
      "cell_type": "code",
      "metadata": {
        "id": "50ZgzOHKKfci"
      },
      "source": [
        "vgs = pd.read_csv('vgsales.csv')"
      ],
      "execution_count": 18,
      "outputs": []
    },
    {
      "cell_type": "markdown",
      "metadata": {
        "id": "nkQy4AlmLfOk"
      },
      "source": [
        "**FIRST 5 NUMBER OF ROWS**"
      ]
    },
    {
      "cell_type": "code",
      "metadata": {
        "colab": {
          "base_uri": "https://localhost:8080/",
          "height": 206
        },
        "id": "0Keh0EKzKrU1",
        "outputId": "783be0d4-1daa-4631-bdc0-02526052bcc9"
      },
      "source": [
        "vgs.head()"
      ],
      "execution_count": 19,
      "outputs": [
        {
          "output_type": "execute_result",
          "data": {
            "text/plain": [
              "   Rank                      Name Platform    Year         Genre Publisher  \\\n",
              "0     1                Wii Sports      Wii  2006.0        Sports  Nintendo   \n",
              "1     2         Super Mario Bros.      NES  1985.0      Platform  Nintendo   \n",
              "2     3            Mario Kart Wii      Wii  2008.0        Racing  Nintendo   \n",
              "3     4         Wii Sports Resort      Wii  2009.0        Sports  Nintendo   \n",
              "4     5  Pokemon Red/Pokemon Blue       GB  1996.0  Role-Playing  Nintendo   \n",
              "\n",
              "   NA_Sales  EU_Sales  JP_Sales  Other_Sales  Global_Sales  \n",
              "0     41.49     29.02      3.77         8.46         82.74  \n",
              "1     29.08      3.58      6.81         0.77         40.24  \n",
              "2     15.85     12.88      3.79         3.31         35.82  \n",
              "3     15.75     11.01      3.28         2.96         33.00  \n",
              "4     11.27      8.89     10.22         1.00         31.37  "
            ],
            "text/html": [
              "\n",
              "  <div id=\"df-0976ade2-eb25-4f52-9509-0e0583bf95b3\">\n",
              "    <div class=\"colab-df-container\">\n",
              "      <div>\n",
              "<style scoped>\n",
              "    .dataframe tbody tr th:only-of-type {\n",
              "        vertical-align: middle;\n",
              "    }\n",
              "\n",
              "    .dataframe tbody tr th {\n",
              "        vertical-align: top;\n",
              "    }\n",
              "\n",
              "    .dataframe thead th {\n",
              "        text-align: right;\n",
              "    }\n",
              "</style>\n",
              "<table border=\"1\" class=\"dataframe\">\n",
              "  <thead>\n",
              "    <tr style=\"text-align: right;\">\n",
              "      <th></th>\n",
              "      <th>Rank</th>\n",
              "      <th>Name</th>\n",
              "      <th>Platform</th>\n",
              "      <th>Year</th>\n",
              "      <th>Genre</th>\n",
              "      <th>Publisher</th>\n",
              "      <th>NA_Sales</th>\n",
              "      <th>EU_Sales</th>\n",
              "      <th>JP_Sales</th>\n",
              "      <th>Other_Sales</th>\n",
              "      <th>Global_Sales</th>\n",
              "    </tr>\n",
              "  </thead>\n",
              "  <tbody>\n",
              "    <tr>\n",
              "      <th>0</th>\n",
              "      <td>1</td>\n",
              "      <td>Wii Sports</td>\n",
              "      <td>Wii</td>\n",
              "      <td>2006.0</td>\n",
              "      <td>Sports</td>\n",
              "      <td>Nintendo</td>\n",
              "      <td>41.49</td>\n",
              "      <td>29.02</td>\n",
              "      <td>3.77</td>\n",
              "      <td>8.46</td>\n",
              "      <td>82.74</td>\n",
              "    </tr>\n",
              "    <tr>\n",
              "      <th>1</th>\n",
              "      <td>2</td>\n",
              "      <td>Super Mario Bros.</td>\n",
              "      <td>NES</td>\n",
              "      <td>1985.0</td>\n",
              "      <td>Platform</td>\n",
              "      <td>Nintendo</td>\n",
              "      <td>29.08</td>\n",
              "      <td>3.58</td>\n",
              "      <td>6.81</td>\n",
              "      <td>0.77</td>\n",
              "      <td>40.24</td>\n",
              "    </tr>\n",
              "    <tr>\n",
              "      <th>2</th>\n",
              "      <td>3</td>\n",
              "      <td>Mario Kart Wii</td>\n",
              "      <td>Wii</td>\n",
              "      <td>2008.0</td>\n",
              "      <td>Racing</td>\n",
              "      <td>Nintendo</td>\n",
              "      <td>15.85</td>\n",
              "      <td>12.88</td>\n",
              "      <td>3.79</td>\n",
              "      <td>3.31</td>\n",
              "      <td>35.82</td>\n",
              "    </tr>\n",
              "    <tr>\n",
              "      <th>3</th>\n",
              "      <td>4</td>\n",
              "      <td>Wii Sports Resort</td>\n",
              "      <td>Wii</td>\n",
              "      <td>2009.0</td>\n",
              "      <td>Sports</td>\n",
              "      <td>Nintendo</td>\n",
              "      <td>15.75</td>\n",
              "      <td>11.01</td>\n",
              "      <td>3.28</td>\n",
              "      <td>2.96</td>\n",
              "      <td>33.00</td>\n",
              "    </tr>\n",
              "    <tr>\n",
              "      <th>4</th>\n",
              "      <td>5</td>\n",
              "      <td>Pokemon Red/Pokemon Blue</td>\n",
              "      <td>GB</td>\n",
              "      <td>1996.0</td>\n",
              "      <td>Role-Playing</td>\n",
              "      <td>Nintendo</td>\n",
              "      <td>11.27</td>\n",
              "      <td>8.89</td>\n",
              "      <td>10.22</td>\n",
              "      <td>1.00</td>\n",
              "      <td>31.37</td>\n",
              "    </tr>\n",
              "  </tbody>\n",
              "</table>\n",
              "</div>\n",
              "      <button class=\"colab-df-convert\" onclick=\"convertToInteractive('df-0976ade2-eb25-4f52-9509-0e0583bf95b3')\"\n",
              "              title=\"Convert this dataframe to an interactive table.\"\n",
              "              style=\"display:none;\">\n",
              "        \n",
              "  <svg xmlns=\"http://www.w3.org/2000/svg\" height=\"24px\"viewBox=\"0 0 24 24\"\n",
              "       width=\"24px\">\n",
              "    <path d=\"M0 0h24v24H0V0z\" fill=\"none\"/>\n",
              "    <path d=\"M18.56 5.44l.94 2.06.94-2.06 2.06-.94-2.06-.94-.94-2.06-.94 2.06-2.06.94zm-11 1L8.5 8.5l.94-2.06 2.06-.94-2.06-.94L8.5 2.5l-.94 2.06-2.06.94zm10 10l.94 2.06.94-2.06 2.06-.94-2.06-.94-.94-2.06-.94 2.06-2.06.94z\"/><path d=\"M17.41 7.96l-1.37-1.37c-.4-.4-.92-.59-1.43-.59-.52 0-1.04.2-1.43.59L10.3 9.45l-7.72 7.72c-.78.78-.78 2.05 0 2.83L4 21.41c.39.39.9.59 1.41.59.51 0 1.02-.2 1.41-.59l7.78-7.78 2.81-2.81c.8-.78.8-2.07 0-2.86zM5.41 20L4 18.59l7.72-7.72 1.47 1.35L5.41 20z\"/>\n",
              "  </svg>\n",
              "      </button>\n",
              "      \n",
              "  <style>\n",
              "    .colab-df-container {\n",
              "      display:flex;\n",
              "      flex-wrap:wrap;\n",
              "      gap: 12px;\n",
              "    }\n",
              "\n",
              "    .colab-df-convert {\n",
              "      background-color: #E8F0FE;\n",
              "      border: none;\n",
              "      border-radius: 50%;\n",
              "      cursor: pointer;\n",
              "      display: none;\n",
              "      fill: #1967D2;\n",
              "      height: 32px;\n",
              "      padding: 0 0 0 0;\n",
              "      width: 32px;\n",
              "    }\n",
              "\n",
              "    .colab-df-convert:hover {\n",
              "      background-color: #E2EBFA;\n",
              "      box-shadow: 0px 1px 2px rgba(60, 64, 67, 0.3), 0px 1px 3px 1px rgba(60, 64, 67, 0.15);\n",
              "      fill: #174EA6;\n",
              "    }\n",
              "\n",
              "    [theme=dark] .colab-df-convert {\n",
              "      background-color: #3B4455;\n",
              "      fill: #D2E3FC;\n",
              "    }\n",
              "\n",
              "    [theme=dark] .colab-df-convert:hover {\n",
              "      background-color: #434B5C;\n",
              "      box-shadow: 0px 1px 3px 1px rgba(0, 0, 0, 0.15);\n",
              "      filter: drop-shadow(0px 1px 2px rgba(0, 0, 0, 0.3));\n",
              "      fill: #FFFFFF;\n",
              "    }\n",
              "  </style>\n",
              "\n",
              "      <script>\n",
              "        const buttonEl =\n",
              "          document.querySelector('#df-0976ade2-eb25-4f52-9509-0e0583bf95b3 button.colab-df-convert');\n",
              "        buttonEl.style.display =\n",
              "          google.colab.kernel.accessAllowed ? 'block' : 'none';\n",
              "\n",
              "        async function convertToInteractive(key) {\n",
              "          const element = document.querySelector('#df-0976ade2-eb25-4f52-9509-0e0583bf95b3');\n",
              "          const dataTable =\n",
              "            await google.colab.kernel.invokeFunction('convertToInteractive',\n",
              "                                                     [key], {});\n",
              "          if (!dataTable) return;\n",
              "\n",
              "          const docLinkHtml = 'Like what you see? Visit the ' +\n",
              "            '<a target=\"_blank\" href=https://colab.research.google.com/notebooks/data_table.ipynb>data table notebook</a>'\n",
              "            + ' to learn more about interactive tables.';\n",
              "          element.innerHTML = '';\n",
              "          dataTable['output_type'] = 'display_data';\n",
              "          await google.colab.output.renderOutput(dataTable, element);\n",
              "          const docLink = document.createElement('div');\n",
              "          docLink.innerHTML = docLinkHtml;\n",
              "          element.appendChild(docLink);\n",
              "        }\n",
              "      </script>\n",
              "    </div>\n",
              "  </div>\n",
              "  "
            ]
          },
          "metadata": {},
          "execution_count": 19
        }
      ]
    },
    {
      "cell_type": "markdown",
      "metadata": {
        "id": "lgvu2J3vLnY8"
      },
      "source": [
        "**TOTAL NUMBER OF ROWS & COLUMNS**"
      ]
    },
    {
      "cell_type": "code",
      "metadata": {
        "colab": {
          "base_uri": "https://localhost:8080/"
        },
        "id": "viUkTu_XK7Vj",
        "outputId": "05558d03-a158-4a67-84f1-6c827ce9e8b3"
      },
      "source": [
        "vgs.shape"
      ],
      "execution_count": 21,
      "outputs": [
        {
          "output_type": "execute_result",
          "data": {
            "text/plain": [
              "(16598, 11)"
            ]
          },
          "metadata": {},
          "execution_count": 21
        }
      ]
    },
    {
      "cell_type": "markdown",
      "metadata": {
        "id": "ddZ9rwwsMlze"
      },
      "source": [
        "**TYPES OF DATA TYPE**"
      ]
    },
    {
      "cell_type": "code",
      "metadata": {
        "colab": {
          "base_uri": "https://localhost:8080/"
        },
        "id": "HmUw3CdEK-vC",
        "outputId": "f309cb84-97dc-4d26-aa57-35a995af8205"
      },
      "source": [
        "vgs.dtypes"
      ],
      "execution_count": 22,
      "outputs": [
        {
          "output_type": "execute_result",
          "data": {
            "text/plain": [
              "Rank              int64\n",
              "Name             object\n",
              "Platform         object\n",
              "Year            float64\n",
              "Genre            object\n",
              "Publisher        object\n",
              "NA_Sales        float64\n",
              "EU_Sales        float64\n",
              "JP_Sales        float64\n",
              "Other_Sales     float64\n",
              "Global_Sales    float64\n",
              "dtype: object"
            ]
          },
          "metadata": {},
          "execution_count": 22
        }
      ]
    },
    {
      "cell_type": "markdown",
      "metadata": {
        "id": "F9_URSQ4M0ZC"
      },
      "source": [
        "**UNIVARIATE ANALYSIS**"
      ]
    },
    {
      "cell_type": "markdown",
      "metadata": {
        "id": "QW2cqULyQqd6"
      },
      "source": [
        "**Continuous Variable**"
      ]
    },
    {
      "cell_type": "markdown",
      "metadata": {
        "id": "gG4YPTj4M7E7"
      },
      "source": [
        "**Tablular Method**"
      ]
    },
    {
      "cell_type": "code",
      "metadata": {
        "colab": {
          "base_uri": "https://localhost:8080/",
          "height": 300
        },
        "id": "Usnt-ebsNHGT",
        "outputId": "d0d00210-d3ac-41cd-acbc-41748760dac7"
      },
      "source": [
        "vgs.describe()"
      ],
      "execution_count": 23,
      "outputs": [
        {
          "output_type": "execute_result",
          "data": {
            "text/plain": [
              "               Rank          Year      NA_Sales      EU_Sales      JP_Sales  \\\n",
              "count  16598.000000  16327.000000  16598.000000  16598.000000  16598.000000   \n",
              "mean    8300.605254   2006.406443      0.264667      0.146652      0.077782   \n",
              "std     4791.853933      5.828981      0.816683      0.505351      0.309291   \n",
              "min        1.000000   1980.000000      0.000000      0.000000      0.000000   \n",
              "25%     4151.250000   2003.000000      0.000000      0.000000      0.000000   \n",
              "50%     8300.500000   2007.000000      0.080000      0.020000      0.000000   \n",
              "75%    12449.750000   2010.000000      0.240000      0.110000      0.040000   \n",
              "max    16600.000000   2020.000000     41.490000     29.020000     10.220000   \n",
              "\n",
              "        Other_Sales  Global_Sales  \n",
              "count  16598.000000  16598.000000  \n",
              "mean       0.048063      0.537441  \n",
              "std        0.188588      1.555028  \n",
              "min        0.000000      0.010000  \n",
              "25%        0.000000      0.060000  \n",
              "50%        0.010000      0.170000  \n",
              "75%        0.040000      0.470000  \n",
              "max       10.570000     82.740000  "
            ],
            "text/html": [
              "\n",
              "  <div id=\"df-2c7c9ec1-4190-4488-b09f-30626091ac49\">\n",
              "    <div class=\"colab-df-container\">\n",
              "      <div>\n",
              "<style scoped>\n",
              "    .dataframe tbody tr th:only-of-type {\n",
              "        vertical-align: middle;\n",
              "    }\n",
              "\n",
              "    .dataframe tbody tr th {\n",
              "        vertical-align: top;\n",
              "    }\n",
              "\n",
              "    .dataframe thead th {\n",
              "        text-align: right;\n",
              "    }\n",
              "</style>\n",
              "<table border=\"1\" class=\"dataframe\">\n",
              "  <thead>\n",
              "    <tr style=\"text-align: right;\">\n",
              "      <th></th>\n",
              "      <th>Rank</th>\n",
              "      <th>Year</th>\n",
              "      <th>NA_Sales</th>\n",
              "      <th>EU_Sales</th>\n",
              "      <th>JP_Sales</th>\n",
              "      <th>Other_Sales</th>\n",
              "      <th>Global_Sales</th>\n",
              "    </tr>\n",
              "  </thead>\n",
              "  <tbody>\n",
              "    <tr>\n",
              "      <th>count</th>\n",
              "      <td>16598.000000</td>\n",
              "      <td>16327.000000</td>\n",
              "      <td>16598.000000</td>\n",
              "      <td>16598.000000</td>\n",
              "      <td>16598.000000</td>\n",
              "      <td>16598.000000</td>\n",
              "      <td>16598.000000</td>\n",
              "    </tr>\n",
              "    <tr>\n",
              "      <th>mean</th>\n",
              "      <td>8300.605254</td>\n",
              "      <td>2006.406443</td>\n",
              "      <td>0.264667</td>\n",
              "      <td>0.146652</td>\n",
              "      <td>0.077782</td>\n",
              "      <td>0.048063</td>\n",
              "      <td>0.537441</td>\n",
              "    </tr>\n",
              "    <tr>\n",
              "      <th>std</th>\n",
              "      <td>4791.853933</td>\n",
              "      <td>5.828981</td>\n",
              "      <td>0.816683</td>\n",
              "      <td>0.505351</td>\n",
              "      <td>0.309291</td>\n",
              "      <td>0.188588</td>\n",
              "      <td>1.555028</td>\n",
              "    </tr>\n",
              "    <tr>\n",
              "      <th>min</th>\n",
              "      <td>1.000000</td>\n",
              "      <td>1980.000000</td>\n",
              "      <td>0.000000</td>\n",
              "      <td>0.000000</td>\n",
              "      <td>0.000000</td>\n",
              "      <td>0.000000</td>\n",
              "      <td>0.010000</td>\n",
              "    </tr>\n",
              "    <tr>\n",
              "      <th>25%</th>\n",
              "      <td>4151.250000</td>\n",
              "      <td>2003.000000</td>\n",
              "      <td>0.000000</td>\n",
              "      <td>0.000000</td>\n",
              "      <td>0.000000</td>\n",
              "      <td>0.000000</td>\n",
              "      <td>0.060000</td>\n",
              "    </tr>\n",
              "    <tr>\n",
              "      <th>50%</th>\n",
              "      <td>8300.500000</td>\n",
              "      <td>2007.000000</td>\n",
              "      <td>0.080000</td>\n",
              "      <td>0.020000</td>\n",
              "      <td>0.000000</td>\n",
              "      <td>0.010000</td>\n",
              "      <td>0.170000</td>\n",
              "    </tr>\n",
              "    <tr>\n",
              "      <th>75%</th>\n",
              "      <td>12449.750000</td>\n",
              "      <td>2010.000000</td>\n",
              "      <td>0.240000</td>\n",
              "      <td>0.110000</td>\n",
              "      <td>0.040000</td>\n",
              "      <td>0.040000</td>\n",
              "      <td>0.470000</td>\n",
              "    </tr>\n",
              "    <tr>\n",
              "      <th>max</th>\n",
              "      <td>16600.000000</td>\n",
              "      <td>2020.000000</td>\n",
              "      <td>41.490000</td>\n",
              "      <td>29.020000</td>\n",
              "      <td>10.220000</td>\n",
              "      <td>10.570000</td>\n",
              "      <td>82.740000</td>\n",
              "    </tr>\n",
              "  </tbody>\n",
              "</table>\n",
              "</div>\n",
              "      <button class=\"colab-df-convert\" onclick=\"convertToInteractive('df-2c7c9ec1-4190-4488-b09f-30626091ac49')\"\n",
              "              title=\"Convert this dataframe to an interactive table.\"\n",
              "              style=\"display:none;\">\n",
              "        \n",
              "  <svg xmlns=\"http://www.w3.org/2000/svg\" height=\"24px\"viewBox=\"0 0 24 24\"\n",
              "       width=\"24px\">\n",
              "    <path d=\"M0 0h24v24H0V0z\" fill=\"none\"/>\n",
              "    <path d=\"M18.56 5.44l.94 2.06.94-2.06 2.06-.94-2.06-.94-.94-2.06-.94 2.06-2.06.94zm-11 1L8.5 8.5l.94-2.06 2.06-.94-2.06-.94L8.5 2.5l-.94 2.06-2.06.94zm10 10l.94 2.06.94-2.06 2.06-.94-2.06-.94-.94-2.06-.94 2.06-2.06.94z\"/><path d=\"M17.41 7.96l-1.37-1.37c-.4-.4-.92-.59-1.43-.59-.52 0-1.04.2-1.43.59L10.3 9.45l-7.72 7.72c-.78.78-.78 2.05 0 2.83L4 21.41c.39.39.9.59 1.41.59.51 0 1.02-.2 1.41-.59l7.78-7.78 2.81-2.81c.8-.78.8-2.07 0-2.86zM5.41 20L4 18.59l7.72-7.72 1.47 1.35L5.41 20z\"/>\n",
              "  </svg>\n",
              "      </button>\n",
              "      \n",
              "  <style>\n",
              "    .colab-df-container {\n",
              "      display:flex;\n",
              "      flex-wrap:wrap;\n",
              "      gap: 12px;\n",
              "    }\n",
              "\n",
              "    .colab-df-convert {\n",
              "      background-color: #E8F0FE;\n",
              "      border: none;\n",
              "      border-radius: 50%;\n",
              "      cursor: pointer;\n",
              "      display: none;\n",
              "      fill: #1967D2;\n",
              "      height: 32px;\n",
              "      padding: 0 0 0 0;\n",
              "      width: 32px;\n",
              "    }\n",
              "\n",
              "    .colab-df-convert:hover {\n",
              "      background-color: #E2EBFA;\n",
              "      box-shadow: 0px 1px 2px rgba(60, 64, 67, 0.3), 0px 1px 3px 1px rgba(60, 64, 67, 0.15);\n",
              "      fill: #174EA6;\n",
              "    }\n",
              "\n",
              "    [theme=dark] .colab-df-convert {\n",
              "      background-color: #3B4455;\n",
              "      fill: #D2E3FC;\n",
              "    }\n",
              "\n",
              "    [theme=dark] .colab-df-convert:hover {\n",
              "      background-color: #434B5C;\n",
              "      box-shadow: 0px 1px 3px 1px rgba(0, 0, 0, 0.15);\n",
              "      filter: drop-shadow(0px 1px 2px rgba(0, 0, 0, 0.3));\n",
              "      fill: #FFFFFF;\n",
              "    }\n",
              "  </style>\n",
              "\n",
              "      <script>\n",
              "        const buttonEl =\n",
              "          document.querySelector('#df-2c7c9ec1-4190-4488-b09f-30626091ac49 button.colab-df-convert');\n",
              "        buttonEl.style.display =\n",
              "          google.colab.kernel.accessAllowed ? 'block' : 'none';\n",
              "\n",
              "        async function convertToInteractive(key) {\n",
              "          const element = document.querySelector('#df-2c7c9ec1-4190-4488-b09f-30626091ac49');\n",
              "          const dataTable =\n",
              "            await google.colab.kernel.invokeFunction('convertToInteractive',\n",
              "                                                     [key], {});\n",
              "          if (!dataTable) return;\n",
              "\n",
              "          const docLinkHtml = 'Like what you see? Visit the ' +\n",
              "            '<a target=\"_blank\" href=https://colab.research.google.com/notebooks/data_table.ipynb>data table notebook</a>'\n",
              "            + ' to learn more about interactive tables.';\n",
              "          element.innerHTML = '';\n",
              "          dataTable['output_type'] = 'display_data';\n",
              "          await google.colab.output.renderOutput(dataTable, element);\n",
              "          const docLink = document.createElement('div');\n",
              "          docLink.innerHTML = docLinkHtml;\n",
              "          element.appendChild(docLink);\n",
              "        }\n",
              "      </script>\n",
              "    </div>\n",
              "  </div>\n",
              "  "
            ]
          },
          "metadata": {},
          "execution_count": 23
        }
      ]
    },
    {
      "cell_type": "markdown",
      "metadata": {
        "id": "htn1MJmENO1i"
      },
      "source": [
        "**Graphical Method**"
      ]
    },
    {
      "cell_type": "code",
      "metadata": {
        "id": "gTLf4UsiNd4q"
      },
      "source": [
        "import matplotlib.pyplot as plt\n",
        "%matplotlib inline"
      ],
      "execution_count": 24,
      "outputs": []
    },
    {
      "cell_type": "markdown",
      "metadata": {
        "id": "d9XLlxiIOaiG"
      },
      "source": [
        "***#Histogram***"
      ]
    },
    {
      "cell_type": "code",
      "metadata": {
        "colab": {
          "base_uri": "https://localhost:8080/",
          "height": 282
        },
        "id": "SVRgMjehOUMe",
        "outputId": "01b320f3-bc97-41b6-e283-1f7d9c81e7b0"
      },
      "source": [
        "vgs.plot.hist()"
      ],
      "execution_count": 25,
      "outputs": [
        {
          "output_type": "execute_result",
          "data": {
            "text/plain": [
              "<matplotlib.axes._subplots.AxesSubplot at 0x7fe21488a710>"
            ]
          },
          "metadata": {},
          "execution_count": 25
        },
        {
          "output_type": "display_data",
          "data": {
            "text/plain": [
              "<Figure size 432x288 with 1 Axes>"
            ],
            "image/png": "[encoded data removed]"
          },
          "metadata": {
            "needs_background": "light"
          }
        }
      ]
    },
    {
      "cell_type": "markdown",
      "metadata": {
        "id": "lC29cYtCOrFz"
      },
      "source": [
        "***#Plot Box***"
      ]
    },
    {
      "cell_type": "code",
      "metadata": {
        "colab": {
          "base_uri": "https://localhost:8080/",
          "height": 338
        },
        "id": "cZPVhYngOhZZ",
        "outputId": "23114082-0021-42e0-9737-88a19066066c"
      },
      "source": [
        "vgs.plot.box()"
      ],
      "execution_count": 26,
      "outputs": [
        {
          "output_type": "stream",
          "name": "stderr",
          "text": [
            "/usr/local/lib/python3.7/dist-packages/matplotlib/cbook/__init__.py:1376: VisibleDeprecationWarning: Creating an ndarray from ragged nested sequences (which is a list-or-tuple of lists-or-tuples-or ndarrays with different lengths or shapes) is deprecated. If you meant to do this, you must specify 'dtype=object' when creating the ndarray.\n",
            "  X = np.atleast_1d(X.T if isinstance(X, np.ndarray) else np.asarray(X))\n"
          ]
        },
        {
          "output_type": "execute_result",
          "data": {
            "text/plain": [
              "<matplotlib.axes._subplots.AxesSubplot at 0x7fe2141a9d90>"
            ]
          },
          "metadata": {},
          "execution_count": 26
        },
        {
          "output_type": "display_data",
          "data": {
            "text/plain": [
              "<Figure size 432x288 with 1 Axes>"
            ],
            "image/png": "[encoded data removed]"
          },
          "metadata": {
            "needs_background": "light"
          }
        }
      ]
    },
    {
      "cell_type": "markdown",
      "metadata": {
        "id": "sRvEk5KjRIRl"
      },
      "source": [
        "**Categorial Variable**"
      ]
    },
    {
      "cell_type": "markdown",
      "metadata": {
        "id": "uahaLw7hS9Tr"
      },
      "source": [
        "**Tabluar Method**"
      ]
    },
    {
      "cell_type": "code",
      "metadata": {
        "colab": {
          "base_uri": "https://localhost:8080/"
        },
        "id": "8rvcth8BPRta",
        "outputId": "1580e466-7e6f-47d5-8924-28b3e65d759d"
      },
      "source": [
        "vgs['Genre'].value_counts()"
      ],
      "execution_count": 27,
      "outputs": [
        {
          "output_type": "execute_result",
          "data": {
            "text/plain": [
              "Action          3316\n",
              "Sports          2346\n",
              "Misc            1739\n",
              "Role-Playing    1488\n",
              "Shooter         1310\n",
              "Adventure       1286\n",
              "Racing          1249\n",
              "Platform         886\n",
              "Simulation       867\n",
              "Fighting         848\n",
              "Strategy         681\n",
              "Puzzle           582\n",
              "Name: Genre, dtype: int64"
            ]
          },
          "metadata": {},
          "execution_count": 27
        }
      ]
    },
    {
      "cell_type": "markdown",
      "metadata": {
        "id": "0LaUiyAnSD4K"
      },
      "source": [
        "***#Percentage using len()***"
      ]
    },
    {
      "cell_type": "code",
      "metadata": {
        "colab": {
          "base_uri": "https://localhost:8080/"
        },
        "id": "0byhx7mURSii",
        "outputId": "11d6e46a-4eb4-46ef-bf46-fdcaca5c1983"
      },
      "source": [
        "vgs['Genre'].value_counts()/len(vgs['Genre'])*100"
      ],
      "execution_count": 28,
      "outputs": [
        {
          "output_type": "execute_result",
          "data": {
            "text/plain": [
              "Action          19.978311\n",
              "Sports          14.134233\n",
              "Misc            10.477166\n",
              "Role-Playing     8.964936\n",
              "Shooter          7.892517\n",
              "Adventure        7.747921\n",
              "Racing           7.525003\n",
              "Platform         5.337993\n",
              "Simulation       5.223521\n",
              "Fighting         5.109049\n",
              "Strategy         4.102904\n",
              "Puzzle           3.506447\n",
              "Name: Genre, dtype: float64"
            ]
          },
          "metadata": {},
          "execution_count": 28
        }
      ]
    },
    {
      "cell_type": "markdown",
      "metadata": {
        "id": "U3-64seZSZRb"
      },
      "source": [
        "**Graphical Method**"
      ]
    },
    {
      "cell_type": "code",
      "metadata": {
        "colab": {
          "base_uri": "https://localhost:8080/",
          "height": 334
        },
        "id": "DTDR5usMShYK",
        "outputId": "b2081c0e-076e-407a-daa7-abeaefee11a8"
      },
      "source": [
        "vgs['Genre'].value_counts().plot.bar()"
      ],
      "execution_count": 29,
      "outputs": [
        {
          "output_type": "execute_result",
          "data": {
            "text/plain": [
              "<matplotlib.axes._subplots.AxesSubplot at 0x7fe214084a10>"
            ]
          },
          "metadata": {},
          "execution_count": 29
        },
        {
          "output_type": "display_data",
          "data": {
            "text/plain": [
              "<Figure size 432x288 with 1 Axes>"
            ],
            "image/png": "[encoded data removed]"
          },
          "metadata": {
            "needs_background": "light"
          }
        }
      ]
    },
    {
      "cell_type": "markdown",
      "metadata": {
        "id": "rwLR3XKATMC7"
      },
      "source": [
        "**BIVARIATE ANALYSIS**"
      ]
    },
    {
      "cell_type": "markdown",
      "metadata": {
        "id": "7G0fUjPSTQLr"
      },
      "source": [
        "**Continuous - Continuous Variable**"
      ]
    },
    {
      "cell_type": "code",
      "metadata": {
        "colab": {
          "base_uri": "https://localhost:8080/",
          "height": 298
        },
        "id": "ulHILkRdTti0",
        "outputId": "4432a7af-a6fd-4c37-b52b-39e16df80d85"
      },
      "source": [
        "vgs.plot.scatter('NA_Sales','JP_Sales')"
      ],
      "execution_count": 30,
      "outputs": [
        {
          "output_type": "execute_result",
          "data": {
            "text/plain": [
              "<matplotlib.axes._subplots.AxesSubplot at 0x7fe214007550>"
            ]
          },
          "metadata": {},
          "execution_count": 30
        },
        {
          "output_type": "display_data",
          "data": {
            "text/plain": [
              "<Figure size 432x288 with 1 Axes>"
            ],
            "image/png": "[encoded data removed]"
          },
          "metadata": {
            "needs_background": "light"
          }
        }
      ]
    },
    {
      "cell_type": "markdown",
      "metadata": {
        "id": "u3L6vxUqV6sF"
      },
      "source": [
        "**Categorical - Categorical Variable**"
      ]
    },
    {
      "cell_type": "markdown",
      "metadata": {
        "id": "l_nONJbvWLk1"
      },
      "source": [
        "***#Two Way Table***"
      ]
    },
    {
      "cell_type": "code",
      "metadata": {
        "colab": {
          "base_uri": "https://localhost:8080/",
          "height": 1000
        },
        "id": "pjKF8EWCWGuV",
        "outputId": "4ee59d6d-9379-4cc8-e7a6-fc4f7b5bb71b"
      },
      "source": [
        "pd.crosstab(vgs['Year'],vgs['Genre'])"
      ],
      "execution_count": 31,
      "outputs": [
        {
          "output_type": "execute_result",
          "data": {
            "text/plain": [
              "Genre   Action  Adventure  Fighting  Misc  Platform  Puzzle  Racing  \\\n",
              "Year                                                                  \n",
              "1980.0       1          0         1     4         0       0       0   \n",
              "1981.0      25          0         0     0         3       2       1   \n",
              "1982.0      18          0         0     1         5       3       2   \n",
              "1983.0       7          1         0     1         5       1       0   \n",
              "1984.0       1          0         0     1         1       3       3   \n",
              "1985.0       2          0         1     0         4       4       0   \n",
              "1986.0       6          0         0     0         6       0       1   \n",
              "1987.0       2          1         2     0         2       0       0   \n",
              "1988.0       2          0         0     0         4       1       1   \n",
              "1989.0       2          0         0     1         3       5       0   \n",
              "1990.0       3          0         0     0         3       2       2   \n",
              "1991.0       5          2         1     1         6       4       1   \n",
              "1992.0       1          4         7     2         6       5       2   \n",
              "1993.0       6          1        11     3        11       3       2   \n",
              "1994.0       4          4        22     6        11       3       8   \n",
              "1995.0       8         13        29    22        13      12      12   \n",
              "1996.0      20         17        30    23        14       9      22   \n",
              "1997.0      31         14        28    12        18      14      36   \n",
              "1998.0      44         23        41    22        25      13      49   \n",
              "1999.0      40         19        24    25        18       6      49   \n",
              "2000.0      44         16        29    20        24      12      43   \n",
              "2001.0      67         21        18    26        43      15      71   \n",
              "2002.0     125         42        54    45        77      20     103   \n",
              "2003.0     144         12        44    53        87       8     109   \n",
              "2004.0     125         39        39    85        66      25      71   \n",
              "2005.0     192         42        43   115        83      33      77   \n",
              "2006.0     184         71        55   109        54      43      75   \n",
              "2007.0     211         84        50   151        42      66      86   \n",
              "2008.0     221        166        57   212        62      64      82   \n",
              "2009.0     272        141        53   207        29      79      84   \n",
              "2010.0     226        154        40   201        31      45      57   \n",
              "2011.0     239        108        50   184        37      43      65   \n",
              "2012.0     266         58        29    38        12      11      30   \n",
              "2013.0     148         60        20    42        37       3      16   \n",
              "2014.0     186         75        23    41        10       8      27   \n",
              "2015.0     255         54        21    39        14       6      19   \n",
              "2016.0     119         34        14    18        10       0      20   \n",
              "2017.0       1          0         0     0         0       0       0   \n",
              "2020.0       0          0         0     0         0       0       0   \n",
              "\n",
              "Genre   Role-Playing  Shooter  Simulation  Sports  Strategy  \n",
              "Year                                                         \n",
              "1980.0             0        2           0       1         0  \n",
              "1981.0             0       10           1       4         0  \n",
              "1982.0             0        5           0       2         0  \n",
              "1983.0             0        1           0       1         0  \n",
              "1984.0             0        3           0       2         0  \n",
              "1985.0             0        1           1       1         0  \n",
              "1986.0             1        4           0       3         0  \n",
              "1987.0             3        2           0       4         0  \n",
              "1988.0             3        1           1       2         0  \n",
              "1989.0             2        1           0       3         0  \n",
              "1990.0             2        0           1       3         0  \n",
              "1991.0             5        3           2       7         4  \n",
              "1992.0             5        3           1       4         3  \n",
              "1993.0             9        2           1       9         2  \n",
              "1994.0            17       11           7      22         6  \n",
              "1995.0            24       29          14      29        14  \n",
              "1996.0            28       23          13      52        12  \n",
              "1997.0            23       27          19      46        21  \n",
              "1998.0            26       23           8      70        35  \n",
              "1999.0            33       16          20      62        26  \n",
              "2000.0            29       20          15      81        16  \n",
              "2001.0            41       36          28      96        20  \n",
              "2002.0            55       79          19     188        22  \n",
              "2003.0            48       73          35     125        37  \n",
              "2004.0            60       88          27     106        32  \n",
              "2005.0            71       96          38     122        29  \n",
              "2006.0           110       69          58     138        42  \n",
              "2007.0           103       85          90     167        67  \n",
              "2008.0           112       83         119     200        50  \n",
              "2009.0           103       91         123     184        65  \n",
              "2010.0           103       81          82     186        53  \n",
              "2011.0            95       94          56     122        46  \n",
              "2012.0            78       48          18      54        15  \n",
              "2013.0            71       59          18      53        19  \n",
              "2014.0            91       47          11      55         8  \n",
              "2015.0            78       34          15      62        17  \n",
              "2016.0            40       32           9      38        10  \n",
              "2017.0             2        0           0       0         0  \n",
              "2020.0             0        0           1       0         0  "
            ],
            "text/html": [
              "\n",
              "  <div id=\"df-9e6c0131-8bf1-45e2-ba63-adcce4afaf9c\">\n",
              "    <div class=\"colab-df-container\">\n",
              "      <div>\n",
              "<style scoped>\n",
              "    .dataframe tbody tr th:only-of-type {\n",
              "        vertical-align: middle;\n",
              "    }\n",
              "\n",
              "    .dataframe tbody tr th {\n",
              "        vertical-align: top;\n",
              "    }\n",
              "\n",
              "    .dataframe thead th {\n",
              "        text-align: right;\n",
              "    }\n",
              "</style>\n",
              "<table border=\"1\" class=\"dataframe\">\n",
              "  <thead>\n",
              "    <tr style=\"text-align: right;\">\n",
              "      <th>Genre</th>\n",
              "      <th>Action</th>\n",
              "      <th>Adventure</th>\n",
              "      <th>Fighting</th>\n",
              "      <th>Misc</th>\n",
              "      <th>Platform</th>\n",
              "      <th>Puzzle</th>\n",
              "      <th>Racing</th>\n",
              "      <th>Role-Playing</th>\n",
              "      <th>Shooter</th>\n",
              "      <th>Simulation</th>\n",
              "      <th>Sports</th>\n",
              "      <th>Strategy</th>\n",
              "    </tr>\n",
              "    <tr>\n",
              "      <th>Year</th>\n",
              "      <th></th>\n",
              "      <th></th>\n",
              "      <th></th>\n",
              "      <th></th>\n",
              "      <th></th>\n",
              "      <th></th>\n",
              "      <th></th>\n",
              "      <th></th>\n",
              "      <th></th>\n",
              "      <th></th>\n",
              "      <th></th>\n",
              "      <th></th>\n",
              "    </tr>\n",
              "  </thead>\n",
              "  <tbody>\n",
              "    <tr>\n",
              "      <th>1980.0</th>\n",
              "      <td>1</td>\n",
              "      <td>0</td>\n",
              "      <td>1</td>\n",
              "      <td>4</td>\n",
              "      <td>0</td>\n",
              "      <td>0</td>\n",
              "      <td>0</td>\n",
              "      <td>0</td>\n",
              "      <td>2</td>\n",
              "      <td>0</td>\n",
              "      <td>1</td>\n",
              "      <td>0</td>\n",
              "    </tr>\n",
              "    <tr>\n",
              "      <th>1981.0</th>\n",
              "      <td>25</td>\n",
              "      <td>0</td>\n",
              "      <td>0</td>\n",
              "      <td>0</td>\n",
              "      <td>3</td>\n",
              "      <td>2</td>\n",
              "      <td>1</td>\n",
              "      <td>0</td>\n",
              "      <td>10</td>\n",
              "      <td>1</td>\n",
              "      <td>4</td>\n",
              "      <td>0</td>\n",
              "    </tr>\n",
              "    <tr>\n",
              "      <th>1982.0</th>\n",
              "      <td>18</td>\n",
              "      <td>0</td>\n",
              "      <td>0</td>\n",
              "      <td>1</td>\n",
              "      <td>5</td>\n",
              "      <td>3</td>\n",
              "      <td>2</td>\n",
              "      <td>0</td>\n",
              "      <td>5</td>\n",
              "      <td>0</td>\n",
              "      <td>2</td>\n",
              "      <td>0</td>\n",
              "    </tr>\n",
              "    <tr>\n",
              "      <th>1983.0</th>\n",
              "      <td>7</td>\n",
              "      <td>1</td>\n",
              "      <td>0</td>\n",
              "      <td>1</td>\n",
              "      <td>5</td>\n",
              "      <td>1</td>\n",
              "      <td>0</td>\n",
              "      <td>0</td>\n",
              "      <td>1</td>\n",
              "      <td>0</td>\n",
              "      <td>1</td>\n",
              "      <td>0</td>\n",
              "    </tr>\n",
              "    <tr>\n",
              "      <th>1984.0</th>\n",
              "      <td>1</td>\n",
              "      <td>0</td>\n",
              "      <td>0</td>\n",
              "      <td>1</td>\n",
              "      <td>1</td>\n",
              "      <td>3</td>\n",
              "      <td>3</td>\n",
              "      <td>0</td>\n",
              "      <td>3</td>\n",
              "      <td>0</td>\n",
              "      <td>2</td>\n",
              "      <td>0</td>\n",
              "    </tr>\n",
              "    <tr>\n",
              "      <th>1985.0</th>\n",
              "      <td>2</td>\n",
              "      <td>0</td>\n",
              "      <td>1</td>\n",
              "      <td>0</td>\n",
              "      <td>4</td>\n",
              "      <td>4</td>\n",
              "      <td>0</td>\n",
              "      <td>0</td>\n",
              "      <td>1</td>\n",
              "      <td>1</td>\n",
              "      <td>1</td>\n",
              "      <td>0</td>\n",
              "    </tr>\n",
              "    <tr>\n",
              "      <th>1986.0</th>\n",
              "      <td>6</td>\n",
              "      <td>0</td>\n",
              "      <td>0</td>\n",
              "      <td>0</td>\n",
              "      <td>6</td>\n",
              "      <td>0</td>\n",
              "      <td>1</td>\n",
              "      <td>1</td>\n",
              "      <td>4</td>\n",
              "      <td>0</td>\n",
              "      <td>3</td>\n",
              "      <td>0</td>\n",
              "    </tr>\n",
              "    <tr>\n",
              "      <th>1987.0</th>\n",
              "      <td>2</td>\n",
              "      <td>1</td>\n",
              "      <td>2</td>\n",
              "      <td>0</td>\n",
              "      <td>2</td>\n",
              "      <td>0</td>\n",
              "      <td>0</td>\n",
              "      <td>3</td>\n",
              "      <td>2</td>\n",
              "      <td>0</td>\n",
              "      <td>4</td>\n",
              "      <td>0</td>\n",
              "    </tr>\n",
              "    <tr>\n",
              "      <th>1988.0</th>\n",
              "      <td>2</td>\n",
              "      <td>0</td>\n",
              "      <td>0</td>\n",
              "      <td>0</td>\n",
              "      <td>4</td>\n",
              "      <td>1</td>\n",
              "      <td>1</td>\n",
              "      <td>3</td>\n",
              "      <td>1</td>\n",
              "      <td>1</td>\n",
              "      <td>2</td>\n",
              "      <td>0</td>\n",
              "    </tr>\n",
              "    <tr>\n",
              "      <th>1989.0</th>\n",
              "      <td>2</td>\n",
              "      <td>0</td>\n",
              "      <td>0</td>\n",
              "      <td>1</td>\n",
              "      <td>3</td>\n",
              "      <td>5</td>\n",
              "      <td>0</td>\n",
              "      <td>2</td>\n",
              "      <td>1</td>\n",
              "      <td>0</td>\n",
              "      <td>3</td>\n",
              "      <td>0</td>\n",
              "    </tr>\n",
              "    <tr>\n",
              "      <th>1990.0</th>\n",
              "      <td>3</td>\n",
              "      <td>0</td>\n",
              "      <td>0</td>\n",
              "      <td>0</td>\n",
              "      <td>3</td>\n",
              "      <td>2</td>\n",
              "      <td>2</td>\n",
              "      <td>2</td>\n",
              "      <td>0</td>\n",
              "      <td>1</td>\n",
              "      <td>3</td>\n",
              "      <td>0</td>\n",
              "    </tr>\n",
              "    <tr>\n",
              "      <th>1991.0</th>\n",
              "      <td>5</td>\n",
              "      <td>2</td>\n",
              "      <td>1</td>\n",
              "      <td>1</td>\n",
              "      <td>6</td>\n",
              "      <td>4</td>\n",
              "      <td>1</td>\n",
              "      <td>5</td>\n",
              "      <td>3</td>\n",
              "      <td>2</td>\n",
              "      <td>7</td>\n",
              "      <td>4</td>\n",
              "    </tr>\n",
              "    <tr>\n",
              "      <th>1992.0</th>\n",
              "      <td>1</td>\n",
              "      <td>4</td>\n",
              "      <td>7</td>\n",
              "      <td>2</td>\n",
              "      <td>6</td>\n",
              "      <td>5</td>\n",
              "      <td>2</td>\n",
              "      <td>5</td>\n",
              "      <td>3</td>\n",
              "      <td>1</td>\n",
              "      <td>4</td>\n",
              "      <td>3</td>\n",
              "    </tr>\n",
              "    <tr>\n",
              "      <th>1993.0</th>\n",
              "      <td>6</td>\n",
              "      <td>1</td>\n",
              "      <td>11</td>\n",
              "      <td>3</td>\n",
              "      <td>11</td>\n",
              "      <td>3</td>\n",
              "      <td>2</td>\n",
              "      <td>9</td>\n",
              "      <td>2</td>\n",
              "      <td>1</td>\n",
              "      <td>9</td>\n",
              "      <td>2</td>\n",
              "    </tr>\n",
              "    <tr>\n",
              "      <th>1994.0</th>\n",
              "      <td>4</td>\n",
              "      <td>4</td>\n",
              "      <td>22</td>\n",
              "      <td>6</td>\n",
              "      <td>11</td>\n",
              "      <td>3</td>\n",
              "      <td>8</td>\n",
              "      <td>17</td>\n",
              "      <td>11</td>\n",
              "      <td>7</td>\n",
              "      <td>22</td>\n",
              "      <td>6</td>\n",
              "    </tr>\n",
              "    <tr>\n",
              "      <th>1995.0</th>\n",
              "      <td>8</td>\n",
              "      <td>13</td>\n",
              "      <td>29</td>\n",
              "      <td>22</td>\n",
              "      <td>13</td>\n",
              "      <td>12</td>\n",
              "      <td>12</td>\n",
              "      <td>24</td>\n",
              "      <td>29</td>\n",
              "      <td>14</td>\n",
              "      <td>29</td>\n",
              "      <td>14</td>\n",
              "    </tr>\n",
              "    <tr>\n",
              "      <th>1996.0</th>\n",
              "      <td>20</td>\n",
              "      <td>17</td>\n",
              "      <td>30</td>\n",
              "      <td>23</td>\n",
              "      <td>14</td>\n",
              "      <td>9</td>\n",
              "      <td>22</td>\n",
              "      <td>28</td>\n",
              "      <td>23</td>\n",
              "      <td>13</td>\n",
              "      <td>52</td>\n",
              "      <td>12</td>\n",
              "    </tr>\n",
              "    <tr>\n",
              "      <th>1997.0</th>\n",
              "      <td>31</td>\n",
              "      <td>14</td>\n",
              "      <td>28</td>\n",
              "      <td>12</td>\n",
              "      <td>18</td>\n",
              "      <td>14</td>\n",
              "      <td>36</td>\n",
              "      <td>23</td>\n",
              "      <td>27</td>\n",
              "      <td>19</td>\n",
              "      <td>46</td>\n",
              "      <td>21</td>\n",
              "    </tr>\n",
              "    <tr>\n",
              "      <th>1998.0</th>\n",
              "      <td>44</td>\n",
              "      <td>23</td>\n",
              "      <td>41</td>\n",
              "      <td>22</td>\n",
              "      <td>25</td>\n",
              "      <td>13</td>\n",
              "      <td>49</td>\n",
              "      <td>26</td>\n",
              "      <td>23</td>\n",
              "      <td>8</td>\n",
              "      <td>70</td>\n",
              "      <td>35</td>\n",
              "    </tr>\n",
              "    <tr>\n",
              "      <th>1999.0</th>\n",
              "      <td>40</td>\n",
              "      <td>19</td>\n",
              "      <td>24</td>\n",
              "      <td>25</td>\n",
              "      <td>18</td>\n",
              "      <td>6</td>\n",
              "      <td>49</td>\n",
              "      <td>33</td>\n",
              "      <td>16</td>\n",
              "      <td>20</td>\n",
              "      <td>62</td>\n",
              "      <td>26</td>\n",
              "    </tr>\n",
              "    <tr>\n",
              "      <th>2000.0</th>\n",
              "      <td>44</td>\n",
              "      <td>16</td>\n",
              "      <td>29</td>\n",
              "      <td>20</td>\n",
              "      <td>24</td>\n",
              "      <td>12</td>\n",
              "      <td>43</td>\n",
              "      <td>29</td>\n",
              "      <td>20</td>\n",
              "      <td>15</td>\n",
              "      <td>81</td>\n",
              "      <td>16</td>\n",
              "    </tr>\n",
              "    <tr>\n",
              "      <th>2001.0</th>\n",
              "      <td>67</td>\n",
              "      <td>21</td>\n",
              "      <td>18</td>\n",
              "      <td>26</td>\n",
              "      <td>43</td>\n",
              "      <td>15</td>\n",
              "      <td>71</td>\n",
              "      <td>41</td>\n",
              "      <td>36</td>\n",
              "      <td>28</td>\n",
              "      <td>96</td>\n",
              "      <td>20</td>\n",
              "    </tr>\n",
              "    <tr>\n",
              "      <th>2002.0</th>\n",
              "      <td>125</td>\n",
              "      <td>42</td>\n",
              "      <td>54</td>\n",
              "      <td>45</td>\n",
              "      <td>77</td>\n",
              "      <td>20</td>\n",
              "      <td>103</td>\n",
              "      <td>55</td>\n",
              "      <td>79</td>\n",
              "      <td>19</td>\n",
              "      <td>188</td>\n",
              "      <td>22</td>\n",
              "    </tr>\n",
              "    <tr>\n",
              "      <th>2003.0</th>\n",
              "      <td>144</td>\n",
              "      <td>12</td>\n",
              "      <td>44</td>\n",
              "      <td>53</td>\n",
              "      <td>87</td>\n",
              "      <td>8</td>\n",
              "      <td>109</td>\n",
              "      <td>48</td>\n",
              "      <td>73</td>\n",
              "      <td>35</td>\n",
              "      <td>125</td>\n",
              "      <td>37</td>\n",
              "    </tr>\n",
              "    <tr>\n",
              "      <th>2004.0</th>\n",
              "      <td>125</td>\n",
              "      <td>39</td>\n",
              "      <td>39</td>\n",
              "      <td>85</td>\n",
              "      <td>66</td>\n",
              "      <td>25</td>\n",
              "      <td>71</td>\n",
              "      <td>60</td>\n",
              "      <td>88</td>\n",
              "      <td>27</td>\n",
              "      <td>106</td>\n",
              "      <td>32</td>\n",
              "    </tr>\n",
              "    <tr>\n",
              "      <th>2005.0</th>\n",
              "      <td>192</td>\n",
              "      <td>42</td>\n",
              "      <td>43</td>\n",
              "      <td>115</td>\n",
              "      <td>83</td>\n",
              "      <td>33</td>\n",
              "      <td>77</td>\n",
              "      <td>71</td>\n",
              "      <td>96</td>\n",
              "      <td>38</td>\n",
              "      <td>122</td>\n",
              "      <td>29</td>\n",
              "    </tr>\n",
              "    <tr>\n",
              "      <th>2006.0</th>\n",
              "      <td>184</td>\n",
              "      <td>71</td>\n",
              "      <td>55</td>\n",
              "      <td>109</td>\n",
              "      <td>54</td>\n",
              "      <td>43</td>\n",
              "      <td>75</td>\n",
              "      <td>110</td>\n",
              "      <td>69</td>\n",
              "      <td>58</td>\n",
              "      <td>138</td>\n",
              "      <td>42</td>\n",
              "    </tr>\n",
              "    <tr>\n",
              "      <th>2007.0</th>\n",
              "      <td>211</td>\n",
              "      <td>84</td>\n",
              "      <td>50</td>\n",
              "      <td>151</td>\n",
              "      <td>42</td>\n",
              "      <td>66</td>\n",
              "      <td>86</td>\n",
              "      <td>103</td>\n",
              "      <td>85</td>\n",
              "      <td>90</td>\n",
              "      <td>167</td>\n",
              "      <td>67</td>\n",
              "    </tr>\n",
              "    <tr>\n",
              "      <th>2008.0</th>\n",
              "      <td>221</td>\n",
              "      <td>166</td>\n",
              "      <td>57</td>\n",
              "      <td>212</td>\n",
              "      <td>62</td>\n",
              "      <td>64</td>\n",
              "      <td>82</td>\n",
              "      <td>112</td>\n",
              "      <td>83</td>\n",
              "      <td>119</td>\n",
              "      <td>200</td>\n",
              "      <td>50</td>\n",
              "    </tr>\n",
              "    <tr>\n",
              "      <th>2009.0</th>\n",
              "      <td>272</td>\n",
              "      <td>141</td>\n",
              "      <td>53</td>\n",
              "      <td>207</td>\n",
              "      <td>29</td>\n",
              "      <td>79</td>\n",
              "      <td>84</td>\n",
              "      <td>103</td>\n",
              "      <td>91</td>\n",
              "      <td>123</td>\n",
              "      <td>184</td>\n",
              "      <td>65</td>\n",
              "    </tr>\n",
              "    <tr>\n",
              "      <th>2010.0</th>\n",
              "      <td>226</td>\n",
              "      <td>154</td>\n",
              "      <td>40</td>\n",
              "      <td>201</td>\n",
              "      <td>31</td>\n",
              "      <td>45</td>\n",
              "      <td>57</td>\n",
              "      <td>103</td>\n",
              "      <td>81</td>\n",
              "      <td>82</td>\n",
              "      <td>186</td>\n",
              "      <td>53</td>\n",
              "    </tr>\n",
              "    <tr>\n",
              "      <th>2011.0</th>\n",
              "      <td>239</td>\n",
              "      <td>108</td>\n",
              "      <td>50</td>\n",
              "      <td>184</td>\n",
              "      <td>37</td>\n",
              "      <td>43</td>\n",
              "      <td>65</td>\n",
              "      <td>95</td>\n",
              "      <td>94</td>\n",
              "      <td>56</td>\n",
              "      <td>122</td>\n",
              "      <td>46</td>\n",
              "    </tr>\n",
              "    <tr>\n",
              "      <th>2012.0</th>\n",
              "      <td>266</td>\n",
              "      <td>58</td>\n",
              "      <td>29</td>\n",
              "      <td>38</td>\n",
              "      <td>12</td>\n",
              "      <td>11</td>\n",
              "      <td>30</td>\n",
              "      <td>78</td>\n",
              "      <td>48</td>\n",
              "      <td>18</td>\n",
              "      <td>54</td>\n",
              "      <td>15</td>\n",
              "    </tr>\n",
              "    <tr>\n",
              "      <th>2013.0</th>\n",
              "      <td>148</td>\n",
              "      <td>60</td>\n",
              "      <td>20</td>\n",
              "      <td>42</td>\n",
              "      <td>37</td>\n",
              "      <td>3</td>\n",
              "      <td>16</td>\n",
              "      <td>71</td>\n",
              "      <td>59</td>\n",
              "      <td>18</td>\n",
              "      <td>53</td>\n",
              "      <td>19</td>\n",
              "    </tr>\n",
              "    <tr>\n",
              "      <th>2014.0</th>\n",
              "      <td>186</td>\n",
              "      <td>75</td>\n",
              "      <td>23</td>\n",
              "      <td>41</td>\n",
              "      <td>10</td>\n",
              "      <td>8</td>\n",
              "      <td>27</td>\n",
              "      <td>91</td>\n",
              "      <td>47</td>\n",
              "      <td>11</td>\n",
              "      <td>55</td>\n",
              "      <td>8</td>\n",
              "    </tr>\n",
              "    <tr>\n",
              "      <th>2015.0</th>\n",
              "      <td>255</td>\n",
              "      <td>54</td>\n",
              "      <td>21</td>\n",
              "      <td>39</td>\n",
              "      <td>14</td>\n",
              "      <td>6</td>\n",
              "      <td>19</td>\n",
              "      <td>78</td>\n",
              "      <td>34</td>\n",
              "      <td>15</td>\n",
              "      <td>62</td>\n",
              "      <td>17</td>\n",
              "    </tr>\n",
              "    <tr>\n",
              "      <th>2016.0</th>\n",
              "      <td>119</td>\n",
              "      <td>34</td>\n",
              "      <td>14</td>\n",
              "      <td>18</td>\n",
              "      <td>10</td>\n",
              "      <td>0</td>\n",
              "      <td>20</td>\n",
              "      <td>40</td>\n",
              "      <td>32</td>\n",
              "      <td>9</td>\n",
              "      <td>38</td>\n",
              "      <td>10</td>\n",
              "    </tr>\n",
              "    <tr>\n",
              "      <th>2017.0</th>\n",
              "      <td>1</td>\n",
              "      <td>0</td>\n",
              "      <td>0</td>\n",
              "      <td>0</td>\n",
              "      <td>0</td>\n",
              "      <td>0</td>\n",
              "      <td>0</td>\n",
              "      <td>2</td>\n",
              "      <td>0</td>\n",
              "      <td>0</td>\n",
              "      <td>0</td>\n",
              "      <td>0</td>\n",
              "    </tr>\n",
              "    <tr>\n",
              "      <th>2020.0</th>\n",
              "      <td>0</td>\n",
              "      <td>0</td>\n",
              "      <td>0</td>\n",
              "      <td>0</td>\n",
              "      <td>0</td>\n",
              "      <td>0</td>\n",
              "      <td>0</td>\n",
              "      <td>0</td>\n",
              "      <td>0</td>\n",
              "      <td>1</td>\n",
              "      <td>0</td>\n",
              "      <td>0</td>\n",
              "    </tr>\n",
              "  </tbody>\n",
              "</table>\n",
              "</div>\n",
              "      <button class=\"colab-df-convert\" onclick=\"convertToInteractive('df-9e6c0131-8bf1-45e2-ba63-adcce4afaf9c')\"\n",
              "              title=\"Convert this dataframe to an interactive table.\"\n",
              "              style=\"display:none;\">\n",
              "        \n",
              "  <svg xmlns=\"http://www.w3.org/2000/svg\" height=\"24px\"viewBox=\"0 0 24 24\"\n",
              "       width=\"24px\">\n",
              "    <path d=\"M0 0h24v24H0V0z\" fill=\"none\"/>\n",
              "    <path d=\"M18.56 5.44l.94 2.06.94-2.06 2.06-.94-2.06-.94-.94-2.06-.94 2.06-2.06.94zm-11 1L8.5 8.5l.94-2.06 2.06-.94-2.06-.94L8.5 2.5l-.94 2.06-2.06.94zm10 10l.94 2.06.94-2.06 2.06-.94-2.06-.94-.94-2.06-.94 2.06-2.06.94z\"/><path d=\"M17.41 7.96l-1.37-1.37c-.4-.4-.92-.59-1.43-.59-.52 0-1.04.2-1.43.59L10.3 9.45l-7.72 7.72c-.78.78-.78 2.05 0 2.83L4 21.41c.39.39.9.59 1.41.59.51 0 1.02-.2 1.41-.59l7.78-7.78 2.81-2.81c.8-.78.8-2.07 0-2.86zM5.41 20L4 18.59l7.72-7.72 1.47 1.35L5.41 20z\"/>\n",
              "  </svg>\n",
              "      </button>\n",
              "      \n",
              "  <style>\n",
              "    .colab-df-container {\n",
              "      display:flex;\n",
              "      flex-wrap:wrap;\n",
              "      gap: 12px;\n",
              "    }\n",
              "\n",
              "    .colab-df-convert {\n",
              "      background-color: #E8F0FE;\n",
              "      border: none;\n",
              "      border-radius: 50%;\n",
              "      cursor: pointer;\n",
              "      display: none;\n",
              "      fill: #1967D2;\n",
              "      height: 32px;\n",
              "      padding: 0 0 0 0;\n",
              "      width: 32px;\n",
              "    }\n",
              "\n",
              "    .colab-df-convert:hover {\n",
              "      background-color: #E2EBFA;\n",
              "      box-shadow: 0px 1px 2px rgba(60, 64, 67, 0.3), 0px 1px 3px 1px rgba(60, 64, 67, 0.15);\n",
              "      fill: #174EA6;\n",
              "    }\n",
              "\n",
              "    [theme=dark] .colab-df-convert {\n",
              "      background-color: #3B4455;\n",
              "      fill: #D2E3FC;\n",
              "    }\n",
              "\n",
              "    [theme=dark] .colab-df-convert:hover {\n",
              "      background-color: #434B5C;\n",
              "      box-shadow: 0px 1px 3px 1px rgba(0, 0, 0, 0.15);\n",
              "      filter: drop-shadow(0px 1px 2px rgba(0, 0, 0, 0.3));\n",
              "      fill: #FFFFFF;\n",
              "    }\n",
              "  </style>\n",
              "\n",
              "      <script>\n",
              "        const buttonEl =\n",
              "          document.querySelector('#df-9e6c0131-8bf1-45e2-ba63-adcce4afaf9c button.colab-df-convert');\n",
              "        buttonEl.style.display =\n",
              "          google.colab.kernel.accessAllowed ? 'block' : 'none';\n",
              "\n",
              "        async function convertToInteractive(key) {\n",
              "          const element = document.querySelector('#df-9e6c0131-8bf1-45e2-ba63-adcce4afaf9c');\n",
              "          const dataTable =\n",
              "            await google.colab.kernel.invokeFunction('convertToInteractive',\n",
              "                                                     [key], {});\n",
              "          if (!dataTable) return;\n",
              "\n",
              "          const docLinkHtml = 'Like what you see? Visit the ' +\n",
              "            '<a target=\"_blank\" href=https://colab.research.google.com/notebooks/data_table.ipynb>data table notebook</a>'\n",
              "            + ' to learn more about interactive tables.';\n",
              "          element.innerHTML = '';\n",
              "          dataTable['output_type'] = 'display_data';\n",
              "          await google.colab.output.renderOutput(dataTable, element);\n",
              "          const docLink = document.createElement('div');\n",
              "          docLink.innerHTML = docLinkHtml;\n",
              "          element.appendChild(docLink);\n",
              "        }\n",
              "      </script>\n",
              "    </div>\n",
              "  </div>\n",
              "  "
            ]
          },
          "metadata": {},
          "execution_count": 31
        }
      ]
    },
    {
      "cell_type": "code",
      "metadata": {
        "id": "RCFa0I8fYZsX"
      },
      "source": [
        "from scipy.stats import chi2_contingency"
      ],
      "execution_count": 32,
      "outputs": []
    },
    {
      "cell_type": "code",
      "metadata": {
        "colab": {
          "base_uri": "https://localhost:8080/"
        },
        "id": "4Pl1fW78Ynty",
        "outputId": "a00796c6-514e-46ad-b2bc-d9e2c788cf71"
      },
      "source": [
        "chi2_contingency(pd.crosstab(vgs['Other_Sales'],vgs['Global_Sales']))"
      ],
      "execution_count": 33,
      "outputs": [
        {
          "output_type": "execute_result",
          "data": {
            "text/plain": [
              "(1569863.2857543267,\n",
              " 0.0,\n",
              " 97032,\n",
              " array([[2.41160742e+02, 4.17933908e+02, 3.16474696e+02, ...,\n",
              "         3.90227738e-01, 3.90227738e-01, 3.90227738e-01],\n",
              "        [1.28269069e+02, 2.22291541e+02, 1.68327208e+02, ...,\n",
              "         2.07555127e-01, 2.07555127e-01, 2.07555127e-01],\n",
              "        [5.89032414e+01, 1.02079889e+02, 7.72985902e+01, ...,\n",
              "         9.53126883e-02, 9.53126883e-02, 9.53126883e-02],\n",
              "        ...,\n",
              "        [3.72334016e-02, 6.45258465e-02, 4.88613086e-02, ...,\n",
              "         6.02482227e-05, 6.02482227e-05, 6.02482227e-05],\n",
              "        [3.72334016e-02, 6.45258465e-02, 4.88613086e-02, ...,\n",
              "         6.02482227e-05, 6.02482227e-05, 6.02482227e-05],\n",
              "        [3.72334016e-02, 6.45258465e-02, 4.88613086e-02, ...,\n",
              "         6.02482227e-05, 6.02482227e-05, 6.02482227e-05]]))"
            ]
          },
          "metadata": {},
          "execution_count": 33
        }
      ]
    },
    {
      "cell_type": "markdown",
      "metadata": {
        "id": "jG4N7mxJncIJ"
      },
      "source": [
        "**Categorial - Continuous Variable**"
      ]
    },
    {
      "cell_type": "markdown",
      "metadata": {
        "id": "u8yyET7soB-J"
      },
      "source": [
        "***#Mean***"
      ]
    },
    {
      "cell_type": "code",
      "metadata": {
        "colab": {
          "base_uri": "https://localhost:8080/"
        },
        "id": "UcoYFdGRnkFE",
        "outputId": "c37acce1-6f0e-43e8-c994-1f620f16d625"
      },
      "source": [
        "vgs.groupby('JP_Sales')['Year'].mean()"
      ],
      "execution_count": 34,
      "outputs": [
        {
          "output_type": "execute_result",
          "data": {
            "text/plain": [
              "JP_Sales\n",
              "0.00     2006.282297\n",
              "0.01     2009.861871\n",
              "0.02     2009.253129\n",
              "0.03     2008.994264\n",
              "0.04     2008.225064\n",
              "            ...     \n",
              "6.04     2006.000000\n",
              "6.50     2006.000000\n",
              "6.81     1985.000000\n",
              "7.20     1999.000000\n",
              "10.22    1996.000000\n",
              "Name: Year, Length: 244, dtype: float64"
            ]
          },
          "metadata": {},
          "execution_count": 34
        }
      ]
    },
    {
      "cell_type": "markdown",
      "metadata": {
        "id": "XDxRhDSYoFXZ"
      },
      "source": [
        "***#Mean - Graphical***"
      ]
    },
    {
      "cell_type": "code",
      "metadata": {
        "colab": {
          "base_uri": "https://localhost:8080/",
          "height": 322
        },
        "id": "tpmRX3kCoJfx",
        "outputId": "98f4c39c-0d7a-4670-da0d-a37dec2e2b05"
      },
      "source": [
        "vgs.groupby('Year')['Rank'].mean().plot.bar()"
      ],
      "execution_count": 35,
      "outputs": [
        {
          "output_type": "execute_result",
          "data": {
            "text/plain": [
              "<matplotlib.axes._subplots.AxesSubplot at 0x7fe205d32450>"
            ]
          },
          "metadata": {},
          "execution_count": 35
        },
        {
          "output_type": "display_data",
          "data": {
            "text/plain": [
              "<Figure size 432x288 with 1 Axes>"
            ],
            "image/png": "[encoded data removed]"
          },
          "metadata": {
            "needs_background": "light"
          }
        }
      ]
    },
    {
      "cell_type": "markdown",
      "metadata": {
        "id": "attQgVByUM28"
      },
      "source": [
        "**CORRELATION - ONE**"
      ]
    },
    {
      "cell_type": "code",
      "metadata": {
        "colab": {
          "base_uri": "https://localhost:8080/",
          "height": 269
        },
        "id": "ragC-sNNURbA",
        "outputId": "af942412-57f8-4602-d0c2-c2f8fd4cbdd2"
      },
      "source": [
        "vgs.corr()"
      ],
      "execution_count": 36,
      "outputs": [
        {
          "output_type": "execute_result",
          "data": {
            "text/plain": [
              "                  Rank      Year  NA_Sales  EU_Sales  JP_Sales  Other_Sales  \\\n",
              "Rank          1.000000  0.178814 -0.401362 -0.379123 -0.267785    -0.332986   \n",
              "Year          0.178814  1.000000 -0.091402  0.006014 -0.169316     0.041058   \n",
              "NA_Sales     -0.401362 -0.091402  1.000000  0.767727  0.449787     0.634737   \n",
              "EU_Sales     -0.379123  0.006014  0.767727  1.000000  0.435584     0.726385   \n",
              "JP_Sales     -0.267785 -0.169316  0.449787  0.435584  1.000000     0.290186   \n",
              "Other_Sales  -0.332986  0.041058  0.634737  0.726385  0.290186     1.000000   \n",
              "Global_Sales -0.427407 -0.074735  0.941047  0.902836  0.611816     0.748331   \n",
              "\n",
              "              Global_Sales  \n",
              "Rank             -0.427407  \n",
              "Year             -0.074735  \n",
              "NA_Sales          0.941047  \n",
              "EU_Sales          0.902836  \n",
              "JP_Sales          0.611816  \n",
              "Other_Sales       0.748331  \n",
              "Global_Sales      1.000000  "
            ],
            "text/html": [
              "\n",
              "  <div id=\"df-98b47082-ac30-44a6-bc62-f0e566600085\">\n",
              "    <div class=\"colab-df-container\">\n",
              "      <div>\n",
              "<style scoped>\n",
              "    .dataframe tbody tr th:only-of-type {\n",
              "        vertical-align: middle;\n",
              "    }\n",
              "\n",
              "    .dataframe tbody tr th {\n",
              "        vertical-align: top;\n",
              "    }\n",
              "\n",
              "    .dataframe thead th {\n",
              "        text-align: right;\n",
              "    }\n",
              "</style>\n",
              "<table border=\"1\" class=\"dataframe\">\n",
              "  <thead>\n",
              "    <tr style=\"text-align: right;\">\n",
              "      <th></th>\n",
              "      <th>Rank</th>\n",
              "      <th>Year</th>\n",
              "      <th>NA_Sales</th>\n",
              "      <th>EU_Sales</th>\n",
              "      <th>JP_Sales</th>\n",
              "      <th>Other_Sales</th>\n",
              "      <th>Global_Sales</th>\n",
              "    </tr>\n",
              "  </thead>\n",
              "  <tbody>\n",
              "    <tr>\n",
              "      <th>Rank</th>\n",
              "      <td>1.000000</td>\n",
              "      <td>0.178814</td>\n",
              "      <td>-0.401362</td>\n",
              "      <td>-0.379123</td>\n",
              "      <td>-0.267785</td>\n",
              "      <td>-0.332986</td>\n",
              "      <td>-0.427407</td>\n",
              "    </tr>\n",
              "    <tr>\n",
              "      <th>Year</th>\n",
              "      <td>0.178814</td>\n",
              "      <td>1.000000</td>\n",
              "      <td>-0.091402</td>\n",
              "      <td>0.006014</td>\n",
              "      <td>-0.169316</td>\n",
              "      <td>0.041058</td>\n",
              "      <td>-0.074735</td>\n",
              "    </tr>\n",
              "    <tr>\n",
              "      <th>NA_Sales</th>\n",
              "      <td>-0.401362</td>\n",
              "      <td>-0.091402</td>\n",
              "      <td>1.000000</td>\n",
              "      <td>0.767727</td>\n",
              "      <td>0.449787</td>\n",
              "      <td>0.634737</td>\n",
              "      <td>0.941047</td>\n",
              "    </tr>\n",
              "    <tr>\n",
              "      <th>EU_Sales</th>\n",
              "      <td>-0.379123</td>\n",
              "      <td>0.006014</td>\n",
              "      <td>0.767727</td>\n",
              "      <td>1.000000</td>\n",
              "      <td>0.435584</td>\n",
              "      <td>0.726385</td>\n",
              "      <td>0.902836</td>\n",
              "    </tr>\n",
              "    <tr>\n",
              "      <th>JP_Sales</th>\n",
              "      <td>-0.267785</td>\n",
              "      <td>-0.169316</td>\n",
              "      <td>0.449787</td>\n",
              "      <td>0.435584</td>\n",
              "      <td>1.000000</td>\n",
              "      <td>0.290186</td>\n",
              "      <td>0.611816</td>\n",
              "    </tr>\n",
              "    <tr>\n",
              "      <th>Other_Sales</th>\n",
              "      <td>-0.332986</td>\n",
              "      <td>0.041058</td>\n",
              "      <td>0.634737</td>\n",
              "      <td>0.726385</td>\n",
              "      <td>0.290186</td>\n",
              "      <td>1.000000</td>\n",
              "      <td>0.748331</td>\n",
              "    </tr>\n",
              "    <tr>\n",
              "      <th>Global_Sales</th>\n",
              "      <td>-0.427407</td>\n",
              "      <td>-0.074735</td>\n",
              "      <td>0.941047</td>\n",
              "      <td>0.902836</td>\n",
              "      <td>0.611816</td>\n",
              "      <td>0.748331</td>\n",
              "      <td>1.000000</td>\n",
              "    </tr>\n",
              "  </tbody>\n",
              "</table>\n",
              "</div>\n",
              "      <button class=\"colab-df-convert\" onclick=\"convertToInteractive('df-98b47082-ac30-44a6-bc62-f0e566600085')\"\n",
              "              title=\"Convert this dataframe to an interactive table.\"\n",
              "              style=\"display:none;\">\n",
              "        \n",
              "  <svg xmlns=\"http://www.w3.org/2000/svg\" height=\"24px\"viewBox=\"0 0 24 24\"\n",
              "       width=\"24px\">\n",
              "    <path d=\"M0 0h24v24H0V0z\" fill=\"none\"/>\n",
              "    <path d=\"M18.56 5.44l.94 2.06.94-2.06 2.06-.94-2.06-.94-.94-2.06-.94 2.06-2.06.94zm-11 1L8.5 8.5l.94-2.06 2.06-.94-2.06-.94L8.5 2.5l-.94 2.06-2.06.94zm10 10l.94 2.06.94-2.06 2.06-.94-2.06-.94-.94-2.06-.94 2.06-2.06.94z\"/><path d=\"M17.41 7.96l-1.37-1.37c-.4-.4-.92-.59-1.43-.59-.52 0-1.04.2-1.43.59L10.3 9.45l-7.72 7.72c-.78.78-.78 2.05 0 2.83L4 21.41c.39.39.9.59 1.41.59.51 0 1.02-.2 1.41-.59l7.78-7.78 2.81-2.81c.8-.78.8-2.07 0-2.86zM5.41 20L4 18.59l7.72-7.72 1.47 1.35L5.41 20z\"/>\n",
              "  </svg>\n",
              "      </button>\n",
              "      \n",
              "  <style>\n",
              "    .colab-df-container {\n",
              "      display:flex;\n",
              "      flex-wrap:wrap;\n",
              "      gap: 12px;\n",
              "    }\n",
              "\n",
              "    .colab-df-convert {\n",
              "      background-color: #E8F0FE;\n",
              "      border: none;\n",
              "      border-radius: 50%;\n",
              "      cursor: pointer;\n",
              "      display: none;\n",
              "      fill: #1967D2;\n",
              "      height: 32px;\n",
              "      padding: 0 0 0 0;\n",
              "      width: 32px;\n",
              "    }\n",
              "\n",
              "    .colab-df-convert:hover {\n",
              "      background-color: #E2EBFA;\n",
              "      box-shadow: 0px 1px 2px rgba(60, 64, 67, 0.3), 0px 1px 3px 1px rgba(60, 64, 67, 0.15);\n",
              "      fill: #174EA6;\n",
              "    }\n",
              "\n",
              "    [theme=dark] .colab-df-convert {\n",
              "      background-color: #3B4455;\n",
              "      fill: #D2E3FC;\n",
              "    }\n",
              "\n",
              "    [theme=dark] .colab-df-convert:hover {\n",
              "      background-color: #434B5C;\n",
              "      box-shadow: 0px 1px 3px 1px rgba(0, 0, 0, 0.15);\n",
              "      filter: drop-shadow(0px 1px 2px rgba(0, 0, 0, 0.3));\n",
              "      fill: #FFFFFF;\n",
              "    }\n",
              "  </style>\n",
              "\n",
              "      <script>\n",
              "        const buttonEl =\n",
              "          document.querySelector('#df-98b47082-ac30-44a6-bc62-f0e566600085 button.colab-df-convert');\n",
              "        buttonEl.style.display =\n",
              "          google.colab.kernel.accessAllowed ? 'block' : 'none';\n",
              "\n",
              "        async function convertToInteractive(key) {\n",
              "          const element = document.querySelector('#df-98b47082-ac30-44a6-bc62-f0e566600085');\n",
              "          const dataTable =\n",
              "            await google.colab.kernel.invokeFunction('convertToInteractive',\n",
              "                                                     [key], {});\n",
              "          if (!dataTable) return;\n",
              "\n",
              "          const docLinkHtml = 'Like what you see? Visit the ' +\n",
              "            '<a target=\"_blank\" href=https://colab.research.google.com/notebooks/data_table.ipynb>data table notebook</a>'\n",
              "            + ' to learn more about interactive tables.';\n",
              "          element.innerHTML = '';\n",
              "          dataTable['output_type'] = 'display_data';\n",
              "          await google.colab.output.renderOutput(dataTable, element);\n",
              "          const docLink = document.createElement('div');\n",
              "          docLink.innerHTML = docLinkHtml;\n",
              "          element.appendChild(docLink);\n",
              "        }\n",
              "      </script>\n",
              "    </div>\n",
              "  </div>\n",
              "  "
            ]
          },
          "metadata": {},
          "execution_count": 36
        }
      ]
    },
    {
      "cell_type": "markdown",
      "metadata": {
        "id": "bM6-TqmYUcvd"
      },
      "source": [
        "***#correlation (b/w EU_Sales & JP_Sales)***"
      ]
    },
    {
      "cell_type": "code",
      "metadata": {
        "colab": {
          "base_uri": "https://localhost:8080/"
        },
        "id": "av_C2P3hUom_",
        "outputId": "cc3df245-2223-4b17-bb3c-05115c4dfe8e"
      },
      "source": [
        "vgs['EU_Sales'].corr(vgs['JP_Sales'])"
      ],
      "execution_count": 37,
      "outputs": [
        {
          "output_type": "execute_result",
          "data": {
            "text/plain": [
              "0.4355844528091811"
            ]
          },
          "metadata": {},
          "execution_count": 37
        }
      ]
    },
    {
      "cell_type": "markdown",
      "metadata": {
        "id": "ff9IUsfaU9UA"
      },
      "source": [
        "***#correlation (b/w NA_Sales & JP_Sales)***"
      ]
    },
    {
      "cell_type": "code",
      "metadata": {
        "colab": {
          "base_uri": "https://localhost:8080/"
        },
        "id": "Xy96BnhhVBs0",
        "outputId": "cb989507-067f-414d-a941-f00785779329"
      },
      "source": [
        "vgs['NA_Sales'].corr(vgs['JP_Sales'])"
      ],
      "execution_count": 38,
      "outputs": [
        {
          "output_type": "execute_result",
          "data": {
            "text/plain": [
              "0.4497874070704247"
            ]
          },
          "metadata": {},
          "execution_count": 38
        }
      ]
    },
    {
      "cell_type": "markdown",
      "metadata": {
        "id": "JysJG3rEVMIS"
      },
      "source": [
        "***#correlation (b/w NA_Sales & EU_Sales)***"
      ]
    },
    {
      "cell_type": "code",
      "metadata": {
        "colab": {
          "base_uri": "https://localhost:8080/"
        },
        "id": "u4UwXYYaVYbs",
        "outputId": "583cb33c-06a8-4954-b077-61cd43939859"
      },
      "source": [
        "vgs['NA_Sales'].corr(vgs['EU_Sales'])"
      ],
      "execution_count": 39,
      "outputs": [
        {
          "output_type": "execute_result",
          "data": {
            "text/plain": [
              "0.7677267483702631"
            ]
          },
          "metadata": {},
          "execution_count": 39
        }
      ]
    },
    {
      "cell_type": "markdown",
      "metadata": {
        "id": "xTZ9GK9j9A11"
      },
      "source": [
        "***#correlation (b/w Other_Sales & Global_Sales)***"
      ]
    },
    {
      "cell_type": "code",
      "metadata": {
        "id": "-0WoqLu07s-n",
        "colab": {
          "base_uri": "https://localhost:8080/"
        },
        "outputId": "f0e66f22-1b37-41d8-cedf-a8c47c19ee67"
      },
      "source": [
        "vgs['Other_Sales'].corr(vgs['Global_Sales'])"
      ],
      "execution_count": 40,
      "outputs": [
        {
          "output_type": "execute_result",
          "data": {
            "text/plain": [
              "0.7483308464077965"
            ]
          },
          "metadata": {},
          "execution_count": 40
        }
      ]
    },
    {
      "cell_type": "markdown",
      "metadata": {
        "id": "dx0x6iNdIFDb"
      },
      "source": [
        "**NULL VALUES**"
      ]
    },
    {
      "cell_type": "markdown",
      "metadata": {
        "id": "34FP2uElIKft"
      },
      "source": [
        "***$Identifying missing values in the dataframe.***"
      ]
    },
    {
      "cell_type": "code",
      "metadata": {
        "colab": {
          "base_uri": "https://localhost:8080/",
          "height": 423
        },
        "id": "nzSxn71oIHYS",
        "outputId": "84dfddd9-1184-4834-e3f5-9e0fc3532ae7"
      },
      "source": [
        "vgs.isnull()"
      ],
      "execution_count": 41,
      "outputs": [
        {
          "output_type": "execute_result",
          "data": {
            "text/plain": [
              "        Rank   Name  Platform   Year  Genre  Publisher  NA_Sales  EU_Sales  \\\n",
              "0      False  False     False  False  False      False     False     False   \n",
              "1      False  False     False  False  False      False     False     False   \n",
              "2      False  False     False  False  False      False     False     False   \n",
              "3      False  False     False  False  False      False     False     False   \n",
              "4      False  False     False  False  False      False     False     False   \n",
              "...      ...    ...       ...    ...    ...        ...       ...       ...   \n",
              "16593  False  False     False  False  False      False     False     False   \n",
              "16594  False  False     False  False  False      False     False     False   \n",
              "16595  False  False     False  False  False      False     False     False   \n",
              "16596  False  False     False  False  False      False     False     False   \n",
              "16597  False  False     False  False  False      False     False     False   \n",
              "\n",
              "       JP_Sales  Other_Sales  Global_Sales  \n",
              "0         False        False         False  \n",
              "1         False        False         False  \n",
              "2         False        False         False  \n",
              "3         False        False         False  \n",
              "4         False        False         False  \n",
              "...         ...          ...           ...  \n",
              "16593     False        False         False  \n",
              "16594     False        False         False  \n",
              "16595     False        False         False  \n",
              "16596     False        False         False  \n",
              "16597     False        False         False  \n",
              "\n",
              "[16598 rows x 11 columns]"
            ],
            "text/html": [
              "\n",
              "  <div id=\"df-17a221c4-0230-4b7f-917f-1c5ff3e2c1bb\">\n",
              "    <div class=\"colab-df-container\">\n",
              "      <div>\n",
              "<style scoped>\n",
              "    .dataframe tbody tr th:only-of-type {\n",
              "        vertical-align: middle;\n",
              "    }\n",
              "\n",
              "    .dataframe tbody tr th {\n",
              "        vertical-align: top;\n",
              "    }\n",
              "\n",
              "    .dataframe thead th {\n",
              "        text-align: right;\n",
              "    }\n",
              "</style>\n",
              "<table border=\"1\" class=\"dataframe\">\n",
              "  <thead>\n",
              "    <tr style=\"text-align: right;\">\n",
              "      <th></th>\n",
              "      <th>Rank</th>\n",
              "      <th>Name</th>\n",
              "      <th>Platform</th>\n",
              "      <th>Year</th>\n",
              "      <th>Genre</th>\n",
              "      <th>Publisher</th>\n",
              "      <th>NA_Sales</th>\n",
              "      <th>EU_Sales</th>\n",
              "      <th>JP_Sales</th>\n",
              "      <th>Other_Sales</th>\n",
              "      <th>Global_Sales</th>\n",
              "    </tr>\n",
              "  </thead>\n",
              "  <tbody>\n",
              "    <tr>\n",
              "      <th>0</th>\n",
              "      <td>False</td>\n",
              "      <td>False</td>\n",
              "      <td>False</td>\n",
              "      <td>False</td>\n",
              "      <td>False</td>\n",
              "      <td>False</td>\n",
              "      <td>False</td>\n",
              "      <td>False</td>\n",
              "      <td>False</td>\n",
              "      <td>False</td>\n",
              "      <td>False</td>\n",
              "    </tr>\n",
              "    <tr>\n",
              "      <th>1</th>\n",
              "      <td>False</td>\n",
              "      <td>False</td>\n",
              "      <td>False</td>\n",
              "      <td>False</td>\n",
              "      <td>False</td>\n",
              "      <td>False</td>\n",
              "      <td>False</td>\n",
              "      <td>False</td>\n",
              "      <td>False</td>\n",
              "      <td>False</td>\n",
              "      <td>False</td>\n",
              "    </tr>\n",
              "    <tr>\n",
              "      <th>2</th>\n",
              "      <td>False</td>\n",
              "      <td>False</td>\n",
              "      <td>False</td>\n",
              "      <td>False</td>\n",
              "      <td>False</td>\n",
              "      <td>False</td>\n",
              "      <td>False</td>\n",
              "      <td>False</td>\n",
              "      <td>False</td>\n",
              "      <td>False</td>\n",
              "      <td>False</td>\n",
              "    </tr>\n",
              "    <tr>\n",
              "      <th>3</th>\n",
              "      <td>False</td>\n",
              "      <td>False</td>\n",
              "      <td>False</td>\n",
              "      <td>False</td>\n",
              "      <td>False</td>\n",
              "      <td>False</td>\n",
              "      <td>False</td>\n",
              "      <td>False</td>\n",
              "      <td>False</td>\n",
              "      <td>False</td>\n",
              "      <td>False</td>\n",
              "    </tr>\n",
              "    <tr>\n",
              "      <th>4</th>\n",
              "      <td>False</td>\n",
              "      <td>False</td>\n",
              "      <td>False</td>\n",
              "      <td>False</td>\n",
              "      <td>False</td>\n",
              "      <td>False</td>\n",
              "      <td>False</td>\n",
              "      <td>False</td>\n",
              "      <td>False</td>\n",
              "      <td>False</td>\n",
              "      <td>False</td>\n",
              "    </tr>\n",
              "    <tr>\n",
              "      <th>...</th>\n",
              "      <td>...</td>\n",
              "      <td>...</td>\n",
              "      <td>...</td>\n",
              "      <td>...</td>\n",
              "      <td>...</td>\n",
              "      <td>...</td>\n",
              "      <td>...</td>\n",
              "      <td>...</td>\n",
              "      <td>...</td>\n",
              "      <td>...</td>\n",
              "      <td>...</td>\n",
              "    </tr>\n",
              "    <tr>\n",
              "      <th>16593</th>\n",
              "      <td>False</td>\n",
              "      <td>False</td>\n",
              "      <td>False</td>\n",
              "      <td>False</td>\n",
              "      <td>False</td>\n",
              "      <td>False</td>\n",
              "      <td>False</td>\n",
              "      <td>False</td>\n",
              "      <td>False</td>\n",
              "      <td>False</td>\n",
              "      <td>False</td>\n",
              "    </tr>\n",
              "    <tr>\n",
              "      <th>16594</th>\n",
              "      <td>False</td>\n",
              "      <td>False</td>\n",
              "      <td>False</td>\n",
              "      <td>False</td>\n",
              "      <td>False</td>\n",
              "      <td>False</td>\n",
              "      <td>False</td>\n",
              "      <td>False</td>\n",
              "      <td>False</td>\n",
              "      <td>False</td>\n",
              "      <td>False</td>\n",
              "    </tr>\n",
              "    <tr>\n",
              "      <th>16595</th>\n",
              "      <td>False</td>\n",
              "      <td>False</td>\n",
              "      <td>False</td>\n",
              "      <td>False</td>\n",
              "      <td>False</td>\n",
              "      <td>False</td>\n",
              "      <td>False</td>\n",
              "      <td>False</td>\n",
              "      <td>False</td>\n",
              "      <td>False</td>\n",
              "      <td>False</td>\n",
              "    </tr>\n",
              "    <tr>\n",
              "      <th>16596</th>\n",
              "      <td>False</td>\n",
              "      <td>False</td>\n",
              "      <td>False</td>\n",
              "      <td>False</td>\n",
              "      <td>False</td>\n",
              "      <td>False</td>\n",
              "      <td>False</td>\n",
              "      <td>False</td>\n",
              "      <td>False</td>\n",
              "      <td>False</td>\n",
              "      <td>False</td>\n",
              "    </tr>\n",
              "    <tr>\n",
              "      <th>16597</th>\n",
              "      <td>False</td>\n",
              "      <td>False</td>\n",
              "      <td>False</td>\n",
              "      <td>False</td>\n",
              "      <td>False</td>\n",
              "      <td>False</td>\n",
              "      <td>False</td>\n",
              "      <td>False</td>\n",
              "      <td>False</td>\n",
              "      <td>False</td>\n",
              "      <td>False</td>\n",
              "    </tr>\n",
              "  </tbody>\n",
              "</table>\n",
              "<p>16598 rows × 11 columns</p>\n",
              "</div>\n",
              "      <button class=\"colab-df-convert\" onclick=\"convertToInteractive('df-17a221c4-0230-4b7f-917f-1c5ff3e2c1bb')\"\n",
              "              title=\"Convert this dataframe to an interactive table.\"\n",
              "              style=\"display:none;\">\n",
              "        \n",
              "  <svg xmlns=\"http://www.w3.org/2000/svg\" height=\"24px\"viewBox=\"0 0 24 24\"\n",
              "       width=\"24px\">\n",
              "    <path d=\"M0 0h24v24H0V0z\" fill=\"none\"/>\n",
              "    <path d=\"M18.56 5.44l.94 2.06.94-2.06 2.06-.94-2.06-.94-.94-2.06-.94 2.06-2.06.94zm-11 1L8.5 8.5l.94-2.06 2.06-.94-2.06-.94L8.5 2.5l-.94 2.06-2.06.94zm10 10l.94 2.06.94-2.06 2.06-.94-2.06-.94-.94-2.06-.94 2.06-2.06.94z\"/><path d=\"M17.41 7.96l-1.37-1.37c-.4-.4-.92-.59-1.43-.59-.52 0-1.04.2-1.43.59L10.3 9.45l-7.72 7.72c-.78.78-.78 2.05 0 2.83L4 21.41c.39.39.9.59 1.41.59.51 0 1.02-.2 1.41-.59l7.78-7.78 2.81-2.81c.8-.78.8-2.07 0-2.86zM5.41 20L4 18.59l7.72-7.72 1.47 1.35L5.41 20z\"/>\n",
              "  </svg>\n",
              "      </button>\n",
              "      \n",
              "  <style>\n",
              "    .colab-df-container {\n",
              "      display:flex;\n",
              "      flex-wrap:wrap;\n",
              "      gap: 12px;\n",
              "    }\n",
              "\n",
              "    .colab-df-convert {\n",
              "      background-color: #E8F0FE;\n",
              "      border: none;\n",
              "      border-radius: 50%;\n",
              "      cursor: pointer;\n",
              "      display: none;\n",
              "      fill: #1967D2;\n",
              "      height: 32px;\n",
              "      padding: 0 0 0 0;\n",
              "      width: 32px;\n",
              "    }\n",
              "\n",
              "    .colab-df-convert:hover {\n",
              "      background-color: #E2EBFA;\n",
              "      box-shadow: 0px 1px 2px rgba(60, 64, 67, 0.3), 0px 1px 3px 1px rgba(60, 64, 67, 0.15);\n",
              "      fill: #174EA6;\n",
              "    }\n",
              "\n",
              "    [theme=dark] .colab-df-convert {\n",
              "      background-color: #3B4455;\n",
              "      fill: #D2E3FC;\n",
              "    }\n",
              "\n",
              "    [theme=dark] .colab-df-convert:hover {\n",
              "      background-color: #434B5C;\n",
              "      box-shadow: 0px 1px 3px 1px rgba(0, 0, 0, 0.15);\n",
              "      filter: drop-shadow(0px 1px 2px rgba(0, 0, 0, 0.3));\n",
              "      fill: #FFFFFF;\n",
              "    }\n",
              "  </style>\n",
              "\n",
              "      <script>\n",
              "        const buttonEl =\n",
              "          document.querySelector('#df-17a221c4-0230-4b7f-917f-1c5ff3e2c1bb button.colab-df-convert');\n",
              "        buttonEl.style.display =\n",
              "          google.colab.kernel.accessAllowed ? 'block' : 'none';\n",
              "\n",
              "        async function convertToInteractive(key) {\n",
              "          const element = document.querySelector('#df-17a221c4-0230-4b7f-917f-1c5ff3e2c1bb');\n",
              "          const dataTable =\n",
              "            await google.colab.kernel.invokeFunction('convertToInteractive',\n",
              "                                                     [key], {});\n",
              "          if (!dataTable) return;\n",
              "\n",
              "          const docLinkHtml = 'Like what you see? Visit the ' +\n",
              "            '<a target=\"_blank\" href=https://colab.research.google.com/notebooks/data_table.ipynb>data table notebook</a>'\n",
              "            + ' to learn more about interactive tables.';\n",
              "          element.innerHTML = '';\n",
              "          dataTable['output_type'] = 'display_data';\n",
              "          await google.colab.output.renderOutput(dataTable, element);\n",
              "          const docLink = document.createElement('div');\n",
              "          docLink.innerHTML = docLinkHtml;\n",
              "          element.appendChild(docLink);\n",
              "        }\n",
              "      </script>\n",
              "    </div>\n",
              "  </div>\n",
              "  "
            ]
          },
          "metadata": {},
          "execution_count": 41
        }
      ]
    },
    {
      "cell_type": "code",
      "metadata": {
        "colab": {
          "base_uri": "https://localhost:8080/"
        },
        "id": "SYqpERCSIvqZ",
        "outputId": "e593a8b6-e37e-42c8-9523-9651fa2dafe6"
      },
      "source": [
        "vgs.isnull().sum()"
      ],
      "execution_count": 42,
      "outputs": [
        {
          "output_type": "execute_result",
          "data": {
            "text/plain": [
              "Rank              0\n",
              "Name              0\n",
              "Platform          0\n",
              "Year            271\n",
              "Genre             0\n",
              "Publisher        58\n",
              "NA_Sales          0\n",
              "EU_Sales          0\n",
              "JP_Sales          0\n",
              "Other_Sales       0\n",
              "Global_Sales      0\n",
              "dtype: int64"
            ]
          },
          "metadata": {},
          "execution_count": 42
        }
      ]
    },
    {
      "cell_type": "code",
      "metadata": {
        "colab": {
          "base_uri": "https://localhost:8080/"
        },
        "id": "f8M8GCaYR8Z-",
        "outputId": "468a364a-2503-4a62-e6fa-a4cb63c3ece8"
      },
      "source": [
        "vgs.isnull().shape"
      ],
      "execution_count": 43,
      "outputs": [
        {
          "output_type": "execute_result",
          "data": {
            "text/plain": [
              "(16598, 11)"
            ]
          },
          "metadata": {},
          "execution_count": 43
        }
      ]
    },
    {
      "cell_type": "code",
      "metadata": {
        "colab": {
          "base_uri": "https://localhost:8080/"
        },
        "id": "Ih6enKp0TcbR",
        "outputId": "58d4aba0-2d32-46ad-c0d8-48c15a6c1091"
      },
      "source": [
        "vgs['Year'].fillna(1)"
      ],
      "execution_count": 44,
      "outputs": [
        {
          "output_type": "execute_result",
          "data": {
            "text/plain": [
              "0        2006.0\n",
              "1        1985.0\n",
              "2        2008.0\n",
              "3        2009.0\n",
              "4        1996.0\n",
              "          ...  \n",
              "16593    2002.0\n",
              "16594    2003.0\n",
              "16595    2008.0\n",
              "16596    2010.0\n",
              "16597    2003.0\n",
              "Name: Year, Length: 16598, dtype: float64"
            ]
          },
          "metadata": {},
          "execution_count": 44
        }
      ]
    },
    {
      "cell_type": "markdown",
      "metadata": {
        "id": "U3_Wn1v0I8xt"
      },
      "source": [
        "***#Dropping all rows where there are any missing values.***"
      ]
    },
    {
      "cell_type": "code",
      "metadata": {
        "colab": {
          "base_uri": "https://localhost:8080/",
          "height": 502
        },
        "id": "qeES8YAJJNqo",
        "outputId": "19efbe4e-8f1e-4ada-c1be-576caf22f345"
      },
      "source": [
        "vgs.dropna()"
      ],
      "execution_count": 45,
      "outputs": [
        {
          "output_type": "execute_result",
          "data": {
            "text/plain": [
              "        Rank                                              Name Platform  \\\n",
              "0          1                                        Wii Sports      Wii   \n",
              "1          2                                 Super Mario Bros.      NES   \n",
              "2          3                                    Mario Kart Wii      Wii   \n",
              "3          4                                 Wii Sports Resort      Wii   \n",
              "4          5                          Pokemon Red/Pokemon Blue       GB   \n",
              "...      ...                                               ...      ...   \n",
              "16593  16596                Woody Woodpecker in Crazy Castle 5      GBA   \n",
              "16594  16597                     Men in Black II: Alien Escape       GC   \n",
              "16595  16598  SCORE International Baja 1000: The Official Game      PS2   \n",
              "16596  16599                                        Know How 2       DS   \n",
              "16597  16600                                  Spirits & Spells      GBA   \n",
              "\n",
              "         Year         Genre   Publisher  NA_Sales  EU_Sales  JP_Sales  \\\n",
              "0      2006.0        Sports    Nintendo     41.49     29.02      3.77   \n",
              "1      1985.0      Platform    Nintendo     29.08      3.58      6.81   \n",
              "2      2008.0        Racing    Nintendo     15.85     12.88      3.79   \n",
              "3      2009.0        Sports    Nintendo     15.75     11.01      3.28   \n",
              "4      1996.0  Role-Playing    Nintendo     11.27      8.89     10.22   \n",
              "...       ...           ...         ...       ...       ...       ...   \n",
              "16593  2002.0      Platform       Kemco      0.01      0.00      0.00   \n",
              "16594  2003.0       Shooter  Infogrames      0.01      0.00      0.00   \n",
              "16595  2008.0        Racing  Activision      0.00      0.00      0.00   \n",
              "16596  2010.0        Puzzle    7G//AMES      0.00      0.01      0.00   \n",
              "16597  2003.0      Platform     Wanadoo      0.01      0.00      0.00   \n",
              "\n",
              "       Other_Sales  Global_Sales  \n",
              "0             8.46         82.74  \n",
              "1             0.77         40.24  \n",
              "2             3.31         35.82  \n",
              "3             2.96         33.00  \n",
              "4             1.00         31.37  \n",
              "...            ...           ...  \n",
              "16593         0.00          0.01  \n",
              "16594         0.00          0.01  \n",
              "16595         0.00          0.01  \n",
              "16596         0.00          0.01  \n",
              "16597         0.00          0.01  \n",
              "\n",
              "[16291 rows x 11 columns]"
            ],
            "text/html": [
              "\n",
              "  <div id=\"df-19cc01d6-c615-4b09-85a1-e464c8b3951a\">\n",
              "    <div class=\"colab-df-container\">\n",
              "      <div>\n",
              "<style scoped>\n",
              "    .dataframe tbody tr th:only-of-type {\n",
              "        vertical-align: middle;\n",
              "    }\n",
              "\n",
              "    .dataframe tbody tr th {\n",
              "        vertical-align: top;\n",
              "    }\n",
              "\n",
              "    .dataframe thead th {\n",
              "        text-align: right;\n",
              "    }\n",
              "</style>\n",
              "<table border=\"1\" class=\"dataframe\">\n",
              "  <thead>\n",
              "    <tr style=\"text-align: right;\">\n",
              "      <th></th>\n",
              "      <th>Rank</th>\n",
              "      <th>Name</th>\n",
              "      <th>Platform</th>\n",
              "      <th>Year</th>\n",
              "      <th>Genre</th>\n",
              "      <th>Publisher</th>\n",
              "      <th>NA_Sales</th>\n",
              "      <th>EU_Sales</th>\n",
              "      <th>JP_Sales</th>\n",
              "      <th>Other_Sales</th>\n",
              "      <th>Global_Sales</th>\n",
              "    </tr>\n",
              "  </thead>\n",
              "  <tbody>\n",
              "    <tr>\n",
              "      <th>0</th>\n",
              "      <td>1</td>\n",
              "      <td>Wii Sports</td>\n",
              "      <td>Wii</td>\n",
              "      <td>2006.0</td>\n",
              "      <td>Sports</td>\n",
              "      <td>Nintendo</td>\n",
              "      <td>41.49</td>\n",
              "      <td>29.02</td>\n",
              "      <td>3.77</td>\n",
              "      <td>8.46</td>\n",
              "      <td>82.74</td>\n",
              "    </tr>\n",
              "    <tr>\n",
              "      <th>1</th>\n",
              "      <td>2</td>\n",
              "      <td>Super Mario Bros.</td>\n",
              "      <td>NES</td>\n",
              "      <td>1985.0</td>\n",
              "      <td>Platform</td>\n",
              "      <td>Nintendo</td>\n",
              "      <td>29.08</td>\n",
              "      <td>3.58</td>\n",
              "      <td>6.81</td>\n",
              "      <td>0.77</td>\n",
              "      <td>40.24</td>\n",
              "    </tr>\n",
              "    <tr>\n",
              "      <th>2</th>\n",
              "      <td>3</td>\n",
              "      <td>Mario Kart Wii</td>\n",
              "      <td>Wii</td>\n",
              "      <td>2008.0</td>\n",
              "      <td>Racing</td>\n",
              "      <td>Nintendo</td>\n",
              "      <td>15.85</td>\n",
              "      <td>12.88</td>\n",
              "      <td>3.79</td>\n",
              "      <td>3.31</td>\n",
              "      <td>35.82</td>\n",
              "    </tr>\n",
              "    <tr>\n",
              "      <th>3</th>\n",
              "      <td>4</td>\n",
              "      <td>Wii Sports Resort</td>\n",
              "      <td>Wii</td>\n",
              "      <td>2009.0</td>\n",
              "      <td>Sports</td>\n",
              "      <td>Nintendo</td>\n",
              "      <td>15.75</td>\n",
              "      <td>11.01</td>\n",
              "      <td>3.28</td>\n",
              "      <td>2.96</td>\n",
              "      <td>33.00</td>\n",
              "    </tr>\n",
              "    <tr>\n",
              "      <th>4</th>\n",
              "      <td>5</td>\n",
              "      <td>Pokemon Red/Pokemon Blue</td>\n",
              "      <td>GB</td>\n",
              "      <td>1996.0</td>\n",
              "      <td>Role-Playing</td>\n",
              "      <td>Nintendo</td>\n",
              "      <td>11.27</td>\n",
              "      <td>8.89</td>\n",
              "      <td>10.22</td>\n",
              "      <td>1.00</td>\n",
              "      <td>31.37</td>\n",
              "    </tr>\n",
              "    <tr>\n",
              "      <th>...</th>\n",
              "      <td>...</td>\n",
              "      <td>...</td>\n",
              "      <td>...</td>\n",
              "      <td>...</td>\n",
              "      <td>...</td>\n",
              "      <td>...</td>\n",
              "      <td>...</td>\n",
              "      <td>...</td>\n",
              "      <td>...</td>\n",
              "      <td>...</td>\n",
              "      <td>...</td>\n",
              "    </tr>\n",
              "    <tr>\n",
              "      <th>16593</th>\n",
              "      <td>16596</td>\n",
              "      <td>Woody Woodpecker in Crazy Castle 5</td>\n",
              "      <td>GBA</td>\n",
              "      <td>2002.0</td>\n",
              "      <td>Platform</td>\n",
              "      <td>Kemco</td>\n",
              "      <td>0.01</td>\n",
              "      <td>0.00</td>\n",
              "      <td>0.00</td>\n",
              "      <td>0.00</td>\n",
              "      <td>0.01</td>\n",
              "    </tr>\n",
              "    <tr>\n",
              "      <th>16594</th>\n",
              "      <td>16597</td>\n",
              "      <td>Men in Black II: Alien Escape</td>\n",
              "      <td>GC</td>\n",
              "      <td>2003.0</td>\n",
              "      <td>Shooter</td>\n",
              "      <td>Infogrames</td>\n",
              "      <td>0.01</td>\n",
              "      <td>0.00</td>\n",
              "      <td>0.00</td>\n",
              "      <td>0.00</td>\n",
              "      <td>0.01</td>\n",
              "    </tr>\n",
              "    <tr>\n",
              "      <th>16595</th>\n",
              "      <td>16598</td>\n",
              "      <td>SCORE International Baja 1000: The Official Game</td>\n",
              "      <td>PS2</td>\n",
              "      <td>2008.0</td>\n",
              "      <td>Racing</td>\n",
              "      <td>Activision</td>\n",
              "      <td>0.00</td>\n",
              "      <td>0.00</td>\n",
              "      <td>0.00</td>\n",
              "      <td>0.00</td>\n",
              "      <td>0.01</td>\n",
              "    </tr>\n",
              "    <tr>\n",
              "      <th>16596</th>\n",
              "      <td>16599</td>\n",
              "      <td>Know How 2</td>\n",
              "      <td>DS</td>\n",
              "      <td>2010.0</td>\n",
              "      <td>Puzzle</td>\n",
              "      <td>7G//AMES</td>\n",
              "      <td>0.00</td>\n",
              "      <td>0.01</td>\n",
              "      <td>0.00</td>\n",
              "      <td>0.00</td>\n",
              "      <td>0.01</td>\n",
              "    </tr>\n",
              "    <tr>\n",
              "      <th>16597</th>\n",
              "      <td>16600</td>\n",
              "      <td>Spirits &amp; Spells</td>\n",
              "      <td>GBA</td>\n",
              "      <td>2003.0</td>\n",
              "      <td>Platform</td>\n",
              "      <td>Wanadoo</td>\n",
              "      <td>0.01</td>\n",
              "      <td>0.00</td>\n",
              "      <td>0.00</td>\n",
              "      <td>0.00</td>\n",
              "      <td>0.01</td>\n",
              "    </tr>\n",
              "  </tbody>\n",
              "</table>\n",
              "<p>16291 rows × 11 columns</p>\n",
              "</div>\n",
              "      <button class=\"colab-df-convert\" onclick=\"convertToInteractive('df-19cc01d6-c615-4b09-85a1-e464c8b3951a')\"\n",
              "              title=\"Convert this dataframe to an interactive table.\"\n",
              "              style=\"display:none;\">\n",
              "        \n",
              "  <svg xmlns=\"http://www.w3.org/2000/svg\" height=\"24px\"viewBox=\"0 0 24 24\"\n",
              "       width=\"24px\">\n",
              "    <path d=\"M0 0h24v24H0V0z\" fill=\"none\"/>\n",
              "    <path d=\"M18.56 5.44l.94 2.06.94-2.06 2.06-.94-2.06-.94-.94-2.06-.94 2.06-2.06.94zm-11 1L8.5 8.5l.94-2.06 2.06-.94-2.06-.94L8.5 2.5l-.94 2.06-2.06.94zm10 10l.94 2.06.94-2.06 2.06-.94-2.06-.94-.94-2.06-.94 2.06-2.06.94z\"/><path d=\"M17.41 7.96l-1.37-1.37c-.4-.4-.92-.59-1.43-.59-.52 0-1.04.2-1.43.59L10.3 9.45l-7.72 7.72c-.78.78-.78 2.05 0 2.83L4 21.41c.39.39.9.59 1.41.59.51 0 1.02-.2 1.41-.59l7.78-7.78 2.81-2.81c.8-.78.8-2.07 0-2.86zM5.41 20L4 18.59l7.72-7.72 1.47 1.35L5.41 20z\"/>\n",
              "  </svg>\n",
              "      </button>\n",
              "      \n",
              "  <style>\n",
              "    .colab-df-container {\n",
              "      display:flex;\n",
              "      flex-wrap:wrap;\n",
              "      gap: 12px;\n",
              "    }\n",
              "\n",
              "    .colab-df-convert {\n",
              "      background-color: #E8F0FE;\n",
              "      border: none;\n",
              "      border-radius: 50%;\n",
              "      cursor: pointer;\n",
              "      display: none;\n",
              "      fill: #1967D2;\n",
              "      height: 32px;\n",
              "      padding: 0 0 0 0;\n",
              "      width: 32px;\n",
              "    }\n",
              "\n",
              "    .colab-df-convert:hover {\n",
              "      background-color: #E2EBFA;\n",
              "      box-shadow: 0px 1px 2px rgba(60, 64, 67, 0.3), 0px 1px 3px 1px rgba(60, 64, 67, 0.15);\n",
              "      fill: #174EA6;\n",
              "    }\n",
              "\n",
              "    [theme=dark] .colab-df-convert {\n",
              "      background-color: #3B4455;\n",
              "      fill: #D2E3FC;\n",
              "    }\n",
              "\n",
              "    [theme=dark] .colab-df-convert:hover {\n",
              "      background-color: #434B5C;\n",
              "      box-shadow: 0px 1px 3px 1px rgba(0, 0, 0, 0.15);\n",
              "      filter: drop-shadow(0px 1px 2px rgba(0, 0, 0, 0.3));\n",
              "      fill: #FFFFFF;\n",
              "    }\n",
              "  </style>\n",
              "\n",
              "      <script>\n",
              "        const buttonEl =\n",
              "          document.querySelector('#df-19cc01d6-c615-4b09-85a1-e464c8b3951a button.colab-df-convert');\n",
              "        buttonEl.style.display =\n",
              "          google.colab.kernel.accessAllowed ? 'block' : 'none';\n",
              "\n",
              "        async function convertToInteractive(key) {\n",
              "          const element = document.querySelector('#df-19cc01d6-c615-4b09-85a1-e464c8b3951a');\n",
              "          const dataTable =\n",
              "            await google.colab.kernel.invokeFunction('convertToInteractive',\n",
              "                                                     [key], {});\n",
              "          if (!dataTable) return;\n",
              "\n",
              "          const docLinkHtml = 'Like what you see? Visit the ' +\n",
              "            '<a target=\"_blank\" href=https://colab.research.google.com/notebooks/data_table.ipynb>data table notebook</a>'\n",
              "            + ' to learn more about interactive tables.';\n",
              "          element.innerHTML = '';\n",
              "          dataTable['output_type'] = 'display_data';\n",
              "          await google.colab.output.renderOutput(dataTable, element);\n",
              "          const docLink = document.createElement('div');\n",
              "          docLink.innerHTML = docLinkHtml;\n",
              "          element.appendChild(docLink);\n",
              "        }\n",
              "      </script>\n",
              "    </div>\n",
              "  </div>\n",
              "  "
            ]
          },
          "metadata": {},
          "execution_count": 45
        }
      ]
    },
    {
      "cell_type": "code",
      "metadata": {
        "colab": {
          "base_uri": "https://localhost:8080/"
        },
        "id": "EEFxNJEMOugr",
        "outputId": "7902e4f1-67a7-4228-bf47-bdae77d97d9f"
      },
      "source": [
        "vgs.dropna().shape"
      ],
      "execution_count": 46,
      "outputs": [
        {
          "output_type": "execute_result",
          "data": {
            "text/plain": [
              "(16291, 11)"
            ]
          },
          "metadata": {},
          "execution_count": 46
        }
      ]
    },
    {
      "cell_type": "markdown",
      "metadata": {
        "id": "Q6haz4PsJgtw"
      },
      "source": [
        "***#Dropping all the rows where all the entries are missing.***"
      ]
    },
    {
      "cell_type": "code",
      "metadata": {
        "colab": {
          "base_uri": "https://localhost:8080/",
          "height": 502
        },
        "id": "dt6AvDJ4J3QW",
        "outputId": "67b44947-a4c4-445b-bacc-dad4d718a17b"
      },
      "source": [
        "vgs.dropna(how='all')"
      ],
      "execution_count": 47,
      "outputs": [
        {
          "output_type": "execute_result",
          "data": {
            "text/plain": [
              "        Rank                                              Name Platform  \\\n",
              "0          1                                        Wii Sports      Wii   \n",
              "1          2                                 Super Mario Bros.      NES   \n",
              "2          3                                    Mario Kart Wii      Wii   \n",
              "3          4                                 Wii Sports Resort      Wii   \n",
              "4          5                          Pokemon Red/Pokemon Blue       GB   \n",
              "...      ...                                               ...      ...   \n",
              "16593  16596                Woody Woodpecker in Crazy Castle 5      GBA   \n",
              "16594  16597                     Men in Black II: Alien Escape       GC   \n",
              "16595  16598  SCORE International Baja 1000: The Official Game      PS2   \n",
              "16596  16599                                        Know How 2       DS   \n",
              "16597  16600                                  Spirits & Spells      GBA   \n",
              "\n",
              "         Year         Genre   Publisher  NA_Sales  EU_Sales  JP_Sales  \\\n",
              "0      2006.0        Sports    Nintendo     41.49     29.02      3.77   \n",
              "1      1985.0      Platform    Nintendo     29.08      3.58      6.81   \n",
              "2      2008.0        Racing    Nintendo     15.85     12.88      3.79   \n",
              "3      2009.0        Sports    Nintendo     15.75     11.01      3.28   \n",
              "4      1996.0  Role-Playing    Nintendo     11.27      8.89     10.22   \n",
              "...       ...           ...         ...       ...       ...       ...   \n",
              "16593  2002.0      Platform       Kemco      0.01      0.00      0.00   \n",
              "16594  2003.0       Shooter  Infogrames      0.01      0.00      0.00   \n",
              "16595  2008.0        Racing  Activision      0.00      0.00      0.00   \n",
              "16596  2010.0        Puzzle    7G//AMES      0.00      0.01      0.00   \n",
              "16597  2003.0      Platform     Wanadoo      0.01      0.00      0.00   \n",
              "\n",
              "       Other_Sales  Global_Sales  \n",
              "0             8.46         82.74  \n",
              "1             0.77         40.24  \n",
              "2             3.31         35.82  \n",
              "3             2.96         33.00  \n",
              "4             1.00         31.37  \n",
              "...            ...           ...  \n",
              "16593         0.00          0.01  \n",
              "16594         0.00          0.01  \n",
              "16595         0.00          0.01  \n",
              "16596         0.00          0.01  \n",
              "16597         0.00          0.01  \n",
              "\n",
              "[16598 rows x 11 columns]"
            ],
            "text/html": [
              "\n",
              "  <div id=\"df-cf3a7c72-10d4-4caa-b0ff-4e5e124e586d\">\n",
              "    <div class=\"colab-df-container\">\n",
              "      <div>\n",
              "<style scoped>\n",
              "    .dataframe tbody tr th:only-of-type {\n",
              "        vertical-align: middle;\n",
              "    }\n",
              "\n",
              "    .dataframe tbody tr th {\n",
              "        vertical-align: top;\n",
              "    }\n",
              "\n",
              "    .dataframe thead th {\n",
              "        text-align: right;\n",
              "    }\n",
              "</style>\n",
              "<table border=\"1\" class=\"dataframe\">\n",
              "  <thead>\n",
              "    <tr style=\"text-align: right;\">\n",
              "      <th></th>\n",
              "      <th>Rank</th>\n",
              "      <th>Name</th>\n",
              "      <th>Platform</th>\n",
              "      <th>Year</th>\n",
              "      <th>Genre</th>\n",
              "      <th>Publisher</th>\n",
              "      <th>NA_Sales</th>\n",
              "      <th>EU_Sales</th>\n",
              "      <th>JP_Sales</th>\n",
              "      <th>Other_Sales</th>\n",
              "      <th>Global_Sales</th>\n",
              "    </tr>\n",
              "  </thead>\n",
              "  <tbody>\n",
              "    <tr>\n",
              "      <th>0</th>\n",
              "      <td>1</td>\n",
              "      <td>Wii Sports</td>\n",
              "      <td>Wii</td>\n",
              "      <td>2006.0</td>\n",
              "      <td>Sports</td>\n",
              "      <td>Nintendo</td>\n",
              "      <td>41.49</td>\n",
              "      <td>29.02</td>\n",
              "      <td>3.77</td>\n",
              "      <td>8.46</td>\n",
              "      <td>82.74</td>\n",
              "    </tr>\n",
              "    <tr>\n",
              "      <th>1</th>\n",
              "      <td>2</td>\n",
              "      <td>Super Mario Bros.</td>\n",
              "      <td>NES</td>\n",
              "      <td>1985.0</td>\n",
              "      <td>Platform</td>\n",
              "      <td>Nintendo</td>\n",
              "      <td>29.08</td>\n",
              "      <td>3.58</td>\n",
              "      <td>6.81</td>\n",
              "      <td>0.77</td>\n",
              "      <td>40.24</td>\n",
              "    </tr>\n",
              "    <tr>\n",
              "      <th>2</th>\n",
              "      <td>3</td>\n",
              "      <td>Mario Kart Wii</td>\n",
              "      <td>Wii</td>\n",
              "      <td>2008.0</td>\n",
              "      <td>Racing</td>\n",
              "      <td>Nintendo</td>\n",
              "      <td>15.85</td>\n",
              "      <td>12.88</td>\n",
              "      <td>3.79</td>\n",
              "      <td>3.31</td>\n",
              "      <td>35.82</td>\n",
              "    </tr>\n",
              "    <tr>\n",
              "      <th>3</th>\n",
              "      <td>4</td>\n",
              "      <td>Wii Sports Resort</td>\n",
              "      <td>Wii</td>\n",
              "      <td>2009.0</td>\n",
              "      <td>Sports</td>\n",
              "      <td>Nintendo</td>\n",
              "      <td>15.75</td>\n",
              "      <td>11.01</td>\n",
              "      <td>3.28</td>\n",
              "      <td>2.96</td>\n",
              "      <td>33.00</td>\n",
              "    </tr>\n",
              "    <tr>\n",
              "      <th>4</th>\n",
              "      <td>5</td>\n",
              "      <td>Pokemon Red/Pokemon Blue</td>\n",
              "      <td>GB</td>\n",
              "      <td>1996.0</td>\n",
              "      <td>Role-Playing</td>\n",
              "      <td>Nintendo</td>\n",
              "      <td>11.27</td>\n",
              "      <td>8.89</td>\n",
              "      <td>10.22</td>\n",
              "      <td>1.00</td>\n",
              "      <td>31.37</td>\n",
              "    </tr>\n",
              "    <tr>\n",
              "      <th>...</th>\n",
              "      <td>...</td>\n",
              "      <td>...</td>\n",
              "      <td>...</td>\n",
              "      <td>...</td>\n",
              "      <td>...</td>\n",
              "      <td>...</td>\n",
              "      <td>...</td>\n",
              "      <td>...</td>\n",
              "      <td>...</td>\n",
              "      <td>...</td>\n",
              "      <td>...</td>\n",
              "    </tr>\n",
              "    <tr>\n",
              "      <th>16593</th>\n",
              "      <td>16596</td>\n",
              "      <td>Woody Woodpecker in Crazy Castle 5</td>\n",
              "      <td>GBA</td>\n",
              "      <td>2002.0</td>\n",
              "      <td>Platform</td>\n",
              "      <td>Kemco</td>\n",
              "      <td>0.01</td>\n",
              "      <td>0.00</td>\n",
              "      <td>0.00</td>\n",
              "      <td>0.00</td>\n",
              "      <td>0.01</td>\n",
              "    </tr>\n",
              "    <tr>\n",
              "      <th>16594</th>\n",
              "      <td>16597</td>\n",
              "      <td>Men in Black II: Alien Escape</td>\n",
              "      <td>GC</td>\n",
              "      <td>2003.0</td>\n",
              "      <td>Shooter</td>\n",
              "      <td>Infogrames</td>\n",
              "      <td>0.01</td>\n",
              "      <td>0.00</td>\n",
              "      <td>0.00</td>\n",
              "      <td>0.00</td>\n",
              "      <td>0.01</td>\n",
              "    </tr>\n",
              "    <tr>\n",
              "      <th>16595</th>\n",
              "      <td>16598</td>\n",
              "      <td>SCORE International Baja 1000: The Official Game</td>\n",
              "      <td>PS2</td>\n",
              "      <td>2008.0</td>\n",
              "      <td>Racing</td>\n",
              "      <td>Activision</td>\n",
              "      <td>0.00</td>\n",
              "      <td>0.00</td>\n",
              "      <td>0.00</td>\n",
              "      <td>0.00</td>\n",
              "      <td>0.01</td>\n",
              "    </tr>\n",
              "    <tr>\n",
              "      <th>16596</th>\n",
              "      <td>16599</td>\n",
              "      <td>Know How 2</td>\n",
              "      <td>DS</td>\n",
              "      <td>2010.0</td>\n",
              "      <td>Puzzle</td>\n",
              "      <td>7G//AMES</td>\n",
              "      <td>0.00</td>\n",
              "      <td>0.01</td>\n",
              "      <td>0.00</td>\n",
              "      <td>0.00</td>\n",
              "      <td>0.01</td>\n",
              "    </tr>\n",
              "    <tr>\n",
              "      <th>16597</th>\n",
              "      <td>16600</td>\n",
              "      <td>Spirits &amp; Spells</td>\n",
              "      <td>GBA</td>\n",
              "      <td>2003.0</td>\n",
              "      <td>Platform</td>\n",
              "      <td>Wanadoo</td>\n",
              "      <td>0.01</td>\n",
              "      <td>0.00</td>\n",
              "      <td>0.00</td>\n",
              "      <td>0.00</td>\n",
              "      <td>0.01</td>\n",
              "    </tr>\n",
              "  </tbody>\n",
              "</table>\n",
              "<p>16598 rows × 11 columns</p>\n",
              "</div>\n",
              "      <button class=\"colab-df-convert\" onclick=\"convertToInteractive('df-cf3a7c72-10d4-4caa-b0ff-4e5e124e586d')\"\n",
              "              title=\"Convert this dataframe to an interactive table.\"\n",
              "              style=\"display:none;\">\n",
              "        \n",
              "  <svg xmlns=\"http://www.w3.org/2000/svg\" height=\"24px\"viewBox=\"0 0 24 24\"\n",
              "       width=\"24px\">\n",
              "    <path d=\"M0 0h24v24H0V0z\" fill=\"none\"/>\n",
              "    <path d=\"M18.56 5.44l.94 2.06.94-2.06 2.06-.94-2.06-.94-.94-2.06-.94 2.06-2.06.94zm-11 1L8.5 8.5l.94-2.06 2.06-.94-2.06-.94L8.5 2.5l-.94 2.06-2.06.94zm10 10l.94 2.06.94-2.06 2.06-.94-2.06-.94-.94-2.06-.94 2.06-2.06.94z\"/><path d=\"M17.41 7.96l-1.37-1.37c-.4-.4-.92-.59-1.43-.59-.52 0-1.04.2-1.43.59L10.3 9.45l-7.72 7.72c-.78.78-.78 2.05 0 2.83L4 21.41c.39.39.9.59 1.41.59.51 0 1.02-.2 1.41-.59l7.78-7.78 2.81-2.81c.8-.78.8-2.07 0-2.86zM5.41 20L4 18.59l7.72-7.72 1.47 1.35L5.41 20z\"/>\n",
              "  </svg>\n",
              "      </button>\n",
              "      \n",
              "  <style>\n",
              "    .colab-df-container {\n",
              "      display:flex;\n",
              "      flex-wrap:wrap;\n",
              "      gap: 12px;\n",
              "    }\n",
              "\n",
              "    .colab-df-convert {\n",
              "      background-color: #E8F0FE;\n",
              "      border: none;\n",
              "      border-radius: 50%;\n",
              "      cursor: pointer;\n",
              "      display: none;\n",
              "      fill: #1967D2;\n",
              "      height: 32px;\n",
              "      padding: 0 0 0 0;\n",
              "      width: 32px;\n",
              "    }\n",
              "\n",
              "    .colab-df-convert:hover {\n",
              "      background-color: #E2EBFA;\n",
              "      box-shadow: 0px 1px 2px rgba(60, 64, 67, 0.3), 0px 1px 3px 1px rgba(60, 64, 67, 0.15);\n",
              "      fill: #174EA6;\n",
              "    }\n",
              "\n",
              "    [theme=dark] .colab-df-convert {\n",
              "      background-color: #3B4455;\n",
              "      fill: #D2E3FC;\n",
              "    }\n",
              "\n",
              "    [theme=dark] .colab-df-convert:hover {\n",
              "      background-color: #434B5C;\n",
              "      box-shadow: 0px 1px 3px 1px rgba(0, 0, 0, 0.15);\n",
              "      filter: drop-shadow(0px 1px 2px rgba(0, 0, 0, 0.3));\n",
              "      fill: #FFFFFF;\n",
              "    }\n",
              "  </style>\n",
              "\n",
              "      <script>\n",
              "        const buttonEl =\n",
              "          document.querySelector('#df-cf3a7c72-10d4-4caa-b0ff-4e5e124e586d button.colab-df-convert');\n",
              "        buttonEl.style.display =\n",
              "          google.colab.kernel.accessAllowed ? 'block' : 'none';\n",
              "\n",
              "        async function convertToInteractive(key) {\n",
              "          const element = document.querySelector('#df-cf3a7c72-10d4-4caa-b0ff-4e5e124e586d');\n",
              "          const dataTable =\n",
              "            await google.colab.kernel.invokeFunction('convertToInteractive',\n",
              "                                                     [key], {});\n",
              "          if (!dataTable) return;\n",
              "\n",
              "          const docLinkHtml = 'Like what you see? Visit the ' +\n",
              "            '<a target=\"_blank\" href=https://colab.research.google.com/notebooks/data_table.ipynb>data table notebook</a>'\n",
              "            + ' to learn more about interactive tables.';\n",
              "          element.innerHTML = '';\n",
              "          dataTable['output_type'] = 'display_data';\n",
              "          await google.colab.output.renderOutput(dataTable, element);\n",
              "          const docLink = document.createElement('div');\n",
              "          docLink.innerHTML = docLinkHtml;\n",
              "          element.appendChild(docLink);\n",
              "        }\n",
              "      </script>\n",
              "    </div>\n",
              "  </div>\n",
              "  "
            ]
          },
          "metadata": {},
          "execution_count": 47
        }
      ]
    },
    {
      "cell_type": "code",
      "metadata": {
        "colab": {
          "base_uri": "https://localhost:8080/"
        },
        "id": "G8zQuK25KE3n",
        "outputId": "eedfd99f-3a18-407e-9003-b09fc59583db"
      },
      "source": [
        "vgs.dropna(how='all').shape"
      ],
      "execution_count": 48,
      "outputs": [
        {
          "output_type": "execute_result",
          "data": {
            "text/plain": [
              "(16598, 11)"
            ]
          },
          "metadata": {},
          "execution_count": 48
        }
      ]
    },
    {
      "cell_type": "markdown",
      "metadata": {
        "id": "j5Zo9OegQRY9"
      },
      "source": [
        "**OUTLIER DETECTION**"
      ]
    },
    {
      "cell_type": "markdown",
      "metadata": {
        "id": "vIaq9fChXVoF"
      },
      "source": [
        "***#Importing Numpy library. - It is used for accessing array objects.***"
      ]
    },
    {
      "cell_type": "code",
      "metadata": {
        "id": "sUZY6YZxSlfW"
      },
      "source": [
        "import numpy as np"
      ],
      "execution_count": 49,
      "outputs": []
    },
    {
      "cell_type": "markdown",
      "metadata": {
        "id": "Xq8xnQT7Sd2_"
      },
      "source": [
        "**Univariate Outlier Detection**"
      ]
    },
    {
      "cell_type": "code",
      "metadata": {
        "colab": {
          "base_uri": "https://localhost:8080/",
          "height": 283
        },
        "id": "51g3fTaUSdiw",
        "outputId": "65ec3ada-61dd-4507-e7b5-a889074ea50e"
      },
      "source": [
        "vgs['Global_Sales'].plot.box()"
      ],
      "execution_count": 50,
      "outputs": [
        {
          "output_type": "execute_result",
          "data": {
            "text/plain": [
              "<matplotlib.axes._subplots.AxesSubplot at 0x7fe205c77b90>"
            ]
          },
          "metadata": {},
          "execution_count": 50
        },
        {
          "output_type": "display_data",
          "data": {
            "text/plain": [
              "<Figure size 432x288 with 1 Axes>"
            ],
            "image/png": "[encoded data removed]"
          },
          "metadata": {
            "needs_background": "light"
          }
        }
      ]
    },
    {
      "cell_type": "markdown",
      "metadata": {
        "id": "duhOQ_KNS9W2"
      },
      "source": [
        "**Bivariate Outlier Detection**"
      ]
    },
    {
      "cell_type": "code",
      "metadata": {
        "colab": {
          "base_uri": "https://localhost:8080/",
          "height": 298
        },
        "id": "6foY3oo-TCxG",
        "outputId": "a6824c04-9dce-4542-9d9c-98b49cc4ae03"
      },
      "source": [
        "vgs.plot.scatter('NA_Sales','JP_Sales')"
      ],
      "execution_count": 51,
      "outputs": [
        {
          "output_type": "execute_result",
          "data": {
            "text/plain": [
              "<matplotlib.axes._subplots.AxesSubplot at 0x7fe205bd9310>"
            ]
          },
          "metadata": {},
          "execution_count": 51
        },
        {
          "output_type": "display_data",
          "data": {
            "text/plain": [
              "<Figure size 432x288 with 1 Axes>"
            ],
            "image/png": "[encoded data removed]"
          },
          "metadata": {
            "needs_background": "light"
          }
        }
      ]
    },
    {
      "cell_type": "markdown",
      "metadata": {
        "id": "uKWzqURMTO_g"
      },
      "source": [
        "**Removing Outlier from the Dataset**"
      ]
    },
    {
      "cell_type": "code",
      "metadata": {
        "colab": {
          "base_uri": "https://localhost:8080/",
          "height": 298
        },
        "id": "R8BQTI5JTYXW",
        "outputId": "3ab15453-6ce9-4db3-dbd0-f71121731e57"
      },
      "source": [
        "vgs = vgs[vgs['JP_Sales']<7]\n",
        "vgs.plot.scatter('NA_Sales','JP_Sales')"
      ],
      "execution_count": 52,
      "outputs": [
        {
          "output_type": "execute_result",
          "data": {
            "text/plain": [
              "<matplotlib.axes._subplots.AxesSubplot at 0x7fe205bbc590>"
            ]
          },
          "metadata": {},
          "execution_count": 52
        },
        {
          "output_type": "display_data",
          "data": {
            "text/plain": [
              "<Figure size 432x288 with 1 Axes>"
            ],
            "image/png": "[encoded data removed]"
          },
          "metadata": {
            "needs_background": "light"
          }
        }
      ]
    },
    {
      "cell_type": "markdown",
      "metadata": {
        "id": "6OUFv23HVIoP"
      },
      "source": [
        "**CORRELATION - TWO**"
      ]
    },
    {
      "cell_type": "markdown",
      "metadata": {
        "id": "TRFEz1rEVn9M"
      },
      "source": [
        "***#Correlation b/w EU_Sales & JP_Sales***"
      ]
    },
    {
      "cell_type": "code",
      "metadata": {
        "colab": {
          "base_uri": "https://localhost:8080/",
          "height": 112
        },
        "id": "ClTdNyAgVPme",
        "outputId": "5045f180-3c13-486a-c77b-8c06bd720586"
      },
      "source": [
        "vgs[['EU_Sales','JP_Sales']].corr()"
      ],
      "execution_count": 53,
      "outputs": [
        {
          "output_type": "execute_result",
          "data": {
            "text/plain": [
              "          EU_Sales  JP_Sales\n",
              "EU_Sales  1.000000  0.410417\n",
              "JP_Sales  0.410417  1.000000"
            ],
            "text/html": [
              "\n",
              "  <div id=\"df-856465da-9404-4c08-8237-b9ca6ff7207c\">\n",
              "    <div class=\"colab-df-container\">\n",
              "      <div>\n",
              "<style scoped>\n",
              "    .dataframe tbody tr th:only-of-type {\n",
              "        vertical-align: middle;\n",
              "    }\n",
              "\n",
              "    .dataframe tbody tr th {\n",
              "        vertical-align: top;\n",
              "    }\n",
              "\n",
              "    .dataframe thead th {\n",
              "        text-align: right;\n",
              "    }\n",
              "</style>\n",
              "<table border=\"1\" class=\"dataframe\">\n",
              "  <thead>\n",
              "    <tr style=\"text-align: right;\">\n",
              "      <th></th>\n",
              "      <th>EU_Sales</th>\n",
              "      <th>JP_Sales</th>\n",
              "    </tr>\n",
              "  </thead>\n",
              "  <tbody>\n",
              "    <tr>\n",
              "      <th>EU_Sales</th>\n",
              "      <td>1.000000</td>\n",
              "      <td>0.410417</td>\n",
              "    </tr>\n",
              "    <tr>\n",
              "      <th>JP_Sales</th>\n",
              "      <td>0.410417</td>\n",
              "      <td>1.000000</td>\n",
              "    </tr>\n",
              "  </tbody>\n",
              "</table>\n",
              "</div>\n",
              "      <button class=\"colab-df-convert\" onclick=\"convertToInteractive('df-856465da-9404-4c08-8237-b9ca6ff7207c')\"\n",
              "              title=\"Convert this dataframe to an interactive table.\"\n",
              "              style=\"display:none;\">\n",
              "        \n",
              "  <svg xmlns=\"http://www.w3.org/2000/svg\" height=\"24px\"viewBox=\"0 0 24 24\"\n",
              "       width=\"24px\">\n",
              "    <path d=\"M0 0h24v24H0V0z\" fill=\"none\"/>\n",
              "    <path d=\"M18.56 5.44l.94 2.06.94-2.06 2.06-.94-2.06-.94-.94-2.06-.94 2.06-2.06.94zm-11 1L8.5 8.5l.94-2.06 2.06-.94-2.06-.94L8.5 2.5l-.94 2.06-2.06.94zm10 10l.94 2.06.94-2.06 2.06-.94-2.06-.94-.94-2.06-.94 2.06-2.06.94z\"/><path d=\"M17.41 7.96l-1.37-1.37c-.4-.4-.92-.59-1.43-.59-.52 0-1.04.2-1.43.59L10.3 9.45l-7.72 7.72c-.78.78-.78 2.05 0 2.83L4 21.41c.39.39.9.59 1.41.59.51 0 1.02-.2 1.41-.59l7.78-7.78 2.81-2.81c.8-.78.8-2.07 0-2.86zM5.41 20L4 18.59l7.72-7.72 1.47 1.35L5.41 20z\"/>\n",
              "  </svg>\n",
              "      </button>\n",
              "      \n",
              "  <style>\n",
              "    .colab-df-container {\n",
              "      display:flex;\n",
              "      flex-wrap:wrap;\n",
              "      gap: 12px;\n",
              "    }\n",
              "\n",
              "    .colab-df-convert {\n",
              "      background-color: #E8F0FE;\n",
              "      border: none;\n",
              "      border-radius: 50%;\n",
              "      cursor: pointer;\n",
              "      display: none;\n",
              "      fill: #1967D2;\n",
              "      height: 32px;\n",
              "      padding: 0 0 0 0;\n",
              "      width: 32px;\n",
              "    }\n",
              "\n",
              "    .colab-df-convert:hover {\n",
              "      background-color: #E2EBFA;\n",
              "      box-shadow: 0px 1px 2px rgba(60, 64, 67, 0.3), 0px 1px 3px 1px rgba(60, 64, 67, 0.15);\n",
              "      fill: #174EA6;\n",
              "    }\n",
              "\n",
              "    [theme=dark] .colab-df-convert {\n",
              "      background-color: #3B4455;\n",
              "      fill: #D2E3FC;\n",
              "    }\n",
              "\n",
              "    [theme=dark] .colab-df-convert:hover {\n",
              "      background-color: #434B5C;\n",
              "      box-shadow: 0px 1px 3px 1px rgba(0, 0, 0, 0.15);\n",
              "      filter: drop-shadow(0px 1px 2px rgba(0, 0, 0, 0.3));\n",
              "      fill: #FFFFFF;\n",
              "    }\n",
              "  </style>\n",
              "\n",
              "      <script>\n",
              "        const buttonEl =\n",
              "          document.querySelector('#df-856465da-9404-4c08-8237-b9ca6ff7207c button.colab-df-convert');\n",
              "        buttonEl.style.display =\n",
              "          google.colab.kernel.accessAllowed ? 'block' : 'none';\n",
              "\n",
              "        async function convertToInteractive(key) {\n",
              "          const element = document.querySelector('#df-856465da-9404-4c08-8237-b9ca6ff7207c');\n",
              "          const dataTable =\n",
              "            await google.colab.kernel.invokeFunction('convertToInteractive',\n",
              "                                                     [key], {});\n",
              "          if (!dataTable) return;\n",
              "\n",
              "          const docLinkHtml = 'Like what you see? Visit the ' +\n",
              "            '<a target=\"_blank\" href=https://colab.research.google.com/notebooks/data_table.ipynb>data table notebook</a>'\n",
              "            + ' to learn more about interactive tables.';\n",
              "          element.innerHTML = '';\n",
              "          dataTable['output_type'] = 'display_data';\n",
              "          await google.colab.output.renderOutput(dataTable, element);\n",
              "          const docLink = document.createElement('div');\n",
              "          docLink.innerHTML = docLinkHtml;\n",
              "          element.appendChild(docLink);\n",
              "        }\n",
              "      </script>\n",
              "    </div>\n",
              "  </div>\n",
              "  "
            ]
          },
          "metadata": {},
          "execution_count": 53
        }
      ]
    },
    {
      "cell_type": "markdown",
      "metadata": {
        "id": "LNhxc0PUW0mZ"
      },
      "source": [
        "**HEATMAP**"
      ]
    },
    {
      "cell_type": "markdown",
      "metadata": {
        "id": "3JoCA1NvXKoQ"
      },
      "source": [
        "***#Importing Seaborn library.***"
      ]
    },
    {
      "cell_type": "code",
      "metadata": {
        "id": "qjgQHV_RW8IW"
      },
      "source": [
        "import seaborn as sns"
      ],
      "execution_count": 54,
      "outputs": []
    },
    {
      "cell_type": "code",
      "metadata": {
        "colab": {
          "base_uri": "https://localhost:8080/",
          "height": 269
        },
        "id": "93MvcM4CYI4a",
        "outputId": "04c234e6-dae6-4ff8-c26f-cf9a6d03e5e4"
      },
      "source": [
        "vgs.corr()"
      ],
      "execution_count": 55,
      "outputs": [
        {
          "output_type": "execute_result",
          "data": {
            "text/plain": [
              "                  Rank      Year  NA_Sales  EU_Sales  JP_Sales  Other_Sales  \\\n",
              "Rank          1.000000  0.178549 -0.402520 -0.381252 -0.275687    -0.332533   \n",
              "Year          0.178549  1.000000 -0.089932  0.008938 -0.172577     0.041931   \n",
              "NA_Sales     -0.402520 -0.089932  1.000000  0.762952  0.433513     0.634780   \n",
              "EU_Sales     -0.381252  0.008938  0.762952  1.000000  0.410417     0.729191   \n",
              "JP_Sales     -0.275687 -0.172577  0.433513  0.410417  1.000000     0.290043   \n",
              "Other_Sales  -0.332533  0.041931  0.634780  0.729191  0.290043     1.000000   \n",
              "Global_Sales -0.431829 -0.072810  0.941147  0.900091  0.592211     0.753914   \n",
              "\n",
              "              Global_Sales  \n",
              "Rank             -0.431829  \n",
              "Year             -0.072810  \n",
              "NA_Sales          0.941147  \n",
              "EU_Sales          0.900091  \n",
              "JP_Sales          0.592211  \n",
              "Other_Sales       0.753914  \n",
              "Global_Sales      1.000000  "
            ],
            "text/html": [
              "\n",
              "  <div id=\"df-50f22311-0bbe-4a46-a908-f009b5196153\">\n",
              "    <div class=\"colab-df-container\">\n",
              "      <div>\n",
              "<style scoped>\n",
              "    .dataframe tbody tr th:only-of-type {\n",
              "        vertical-align: middle;\n",
              "    }\n",
              "\n",
              "    .dataframe tbody tr th {\n",
              "        vertical-align: top;\n",
              "    }\n",
              "\n",
              "    .dataframe thead th {\n",
              "        text-align: right;\n",
              "    }\n",
              "</style>\n",
              "<table border=\"1\" class=\"dataframe\">\n",
              "  <thead>\n",
              "    <tr style=\"text-align: right;\">\n",
              "      <th></th>\n",
              "      <th>Rank</th>\n",
              "      <th>Year</th>\n",
              "      <th>NA_Sales</th>\n",
              "      <th>EU_Sales</th>\n",
              "      <th>JP_Sales</th>\n",
              "      <th>Other_Sales</th>\n",
              "      <th>Global_Sales</th>\n",
              "    </tr>\n",
              "  </thead>\n",
              "  <tbody>\n",
              "    <tr>\n",
              "      <th>Rank</th>\n",
              "      <td>1.000000</td>\n",
              "      <td>0.178549</td>\n",
              "      <td>-0.402520</td>\n",
              "      <td>-0.381252</td>\n",
              "      <td>-0.275687</td>\n",
              "      <td>-0.332533</td>\n",
              "      <td>-0.431829</td>\n",
              "    </tr>\n",
              "    <tr>\n",
              "      <th>Year</th>\n",
              "      <td>0.178549</td>\n",
              "      <td>1.000000</td>\n",
              "      <td>-0.089932</td>\n",
              "      <td>0.008938</td>\n",
              "      <td>-0.172577</td>\n",
              "      <td>0.041931</td>\n",
              "      <td>-0.072810</td>\n",
              "    </tr>\n",
              "    <tr>\n",
              "      <th>NA_Sales</th>\n",
              "      <td>-0.402520</td>\n",
              "      <td>-0.089932</td>\n",
              "      <td>1.000000</td>\n",
              "      <td>0.762952</td>\n",
              "      <td>0.433513</td>\n",
              "      <td>0.634780</td>\n",
              "      <td>0.941147</td>\n",
              "    </tr>\n",
              "    <tr>\n",
              "      <th>EU_Sales</th>\n",
              "      <td>-0.381252</td>\n",
              "      <td>0.008938</td>\n",
              "      <td>0.762952</td>\n",
              "      <td>1.000000</td>\n",
              "      <td>0.410417</td>\n",
              "      <td>0.729191</td>\n",
              "      <td>0.900091</td>\n",
              "    </tr>\n",
              "    <tr>\n",
              "      <th>JP_Sales</th>\n",
              "      <td>-0.275687</td>\n",
              "      <td>-0.172577</td>\n",
              "      <td>0.433513</td>\n",
              "      <td>0.410417</td>\n",
              "      <td>1.000000</td>\n",
              "      <td>0.290043</td>\n",
              "      <td>0.592211</td>\n",
              "    </tr>\n",
              "    <tr>\n",
              "      <th>Other_Sales</th>\n",
              "      <td>-0.332533</td>\n",
              "      <td>0.041931</td>\n",
              "      <td>0.634780</td>\n",
              "      <td>0.729191</td>\n",
              "      <td>0.290043</td>\n",
              "      <td>1.000000</td>\n",
              "      <td>0.753914</td>\n",
              "    </tr>\n",
              "    <tr>\n",
              "      <th>Global_Sales</th>\n",
              "      <td>-0.431829</td>\n",
              "      <td>-0.072810</td>\n",
              "      <td>0.941147</td>\n",
              "      <td>0.900091</td>\n",
              "      <td>0.592211</td>\n",
              "      <td>0.753914</td>\n",
              "      <td>1.000000</td>\n",
              "    </tr>\n",
              "  </tbody>\n",
              "</table>\n",
              "</div>\n",
              "      <button class=\"colab-df-convert\" onclick=\"convertToInteractive('df-50f22311-0bbe-4a46-a908-f009b5196153')\"\n",
              "              title=\"Convert this dataframe to an interactive table.\"\n",
              "              style=\"display:none;\">\n",
              "        \n",
              "  <svg xmlns=\"http://www.w3.org/2000/svg\" height=\"24px\"viewBox=\"0 0 24 24\"\n",
              "       width=\"24px\">\n",
              "    <path d=\"M0 0h24v24H0V0z\" fill=\"none\"/>\n",
              "    <path d=\"M18.56 5.44l.94 2.06.94-2.06 2.06-.94-2.06-.94-.94-2.06-.94 2.06-2.06.94zm-11 1L8.5 8.5l.94-2.06 2.06-.94-2.06-.94L8.5 2.5l-.94 2.06-2.06.94zm10 10l.94 2.06.94-2.06 2.06-.94-2.06-.94-.94-2.06-.94 2.06-2.06.94z\"/><path d=\"M17.41 7.96l-1.37-1.37c-.4-.4-.92-.59-1.43-.59-.52 0-1.04.2-1.43.59L10.3 9.45l-7.72 7.72c-.78.78-.78 2.05 0 2.83L4 21.41c.39.39.9.59 1.41.59.51 0 1.02-.2 1.41-.59l7.78-7.78 2.81-2.81c.8-.78.8-2.07 0-2.86zM5.41 20L4 18.59l7.72-7.72 1.47 1.35L5.41 20z\"/>\n",
              "  </svg>\n",
              "      </button>\n",
              "      \n",
              "  <style>\n",
              "    .colab-df-container {\n",
              "      display:flex;\n",
              "      flex-wrap:wrap;\n",
              "      gap: 12px;\n",
              "    }\n",
              "\n",
              "    .colab-df-convert {\n",
              "      background-color: #E8F0FE;\n",
              "      border: none;\n",
              "      border-radius: 50%;\n",
              "      cursor: pointer;\n",
              "      display: none;\n",
              "      fill: #1967D2;\n",
              "      height: 32px;\n",
              "      padding: 0 0 0 0;\n",
              "      width: 32px;\n",
              "    }\n",
              "\n",
              "    .colab-df-convert:hover {\n",
              "      background-color: #E2EBFA;\n",
              "      box-shadow: 0px 1px 2px rgba(60, 64, 67, 0.3), 0px 1px 3px 1px rgba(60, 64, 67, 0.15);\n",
              "      fill: #174EA6;\n",
              "    }\n",
              "\n",
              "    [theme=dark] .colab-df-convert {\n",
              "      background-color: #3B4455;\n",
              "      fill: #D2E3FC;\n",
              "    }\n",
              "\n",
              "    [theme=dark] .colab-df-convert:hover {\n",
              "      background-color: #434B5C;\n",
              "      box-shadow: 0px 1px 3px 1px rgba(0, 0, 0, 0.15);\n",
              "      filter: drop-shadow(0px 1px 2px rgba(0, 0, 0, 0.3));\n",
              "      fill: #FFFFFF;\n",
              "    }\n",
              "  </style>\n",
              "\n",
              "      <script>\n",
              "        const buttonEl =\n",
              "          document.querySelector('#df-50f22311-0bbe-4a46-a908-f009b5196153 button.colab-df-convert');\n",
              "        buttonEl.style.display =\n",
              "          google.colab.kernel.accessAllowed ? 'block' : 'none';\n",
              "\n",
              "        async function convertToInteractive(key) {\n",
              "          const element = document.querySelector('#df-50f22311-0bbe-4a46-a908-f009b5196153');\n",
              "          const dataTable =\n",
              "            await google.colab.kernel.invokeFunction('convertToInteractive',\n",
              "                                                     [key], {});\n",
              "          if (!dataTable) return;\n",
              "\n",
              "          const docLinkHtml = 'Like what you see? Visit the ' +\n",
              "            '<a target=\"_blank\" href=https://colab.research.google.com/notebooks/data_table.ipynb>data table notebook</a>'\n",
              "            + ' to learn more about interactive tables.';\n",
              "          element.innerHTML = '';\n",
              "          dataTable['output_type'] = 'display_data';\n",
              "          await google.colab.output.renderOutput(dataTable, element);\n",
              "          const docLink = document.createElement('div');\n",
              "          docLink.innerHTML = docLinkHtml;\n",
              "          element.appendChild(docLink);\n",
              "        }\n",
              "      </script>\n",
              "    </div>\n",
              "  </div>\n",
              "  "
            ]
          },
          "metadata": {},
          "execution_count": 55
        }
      ]
    },
    {
      "cell_type": "markdown",
      "metadata": {
        "id": "YNqZd7VPX8Gm"
      },
      "source": [
        "***#Plotting correlation b/w different features.***"
      ]
    },
    {
      "cell_type": "code",
      "metadata": {
        "colab": {
          "base_uri": "https://localhost:8080/",
          "height": 396
        },
        "id": "8N9KfChZYbSo",
        "outputId": "da0019fb-ffcd-4f2d-96f1-572cf1bcc709"
      },
      "source": [
        "cor = vgs.corr()\n",
        "plt.figure(figsize=(12,6))\n",
        "sns.heatmap(cor)"
      ],
      "execution_count": 56,
      "outputs": [
        {
          "output_type": "execute_result",
          "data": {
            "text/plain": [
              "<matplotlib.axes._subplots.AxesSubplot at 0x7fe205a33d10>"
            ]
          },
          "metadata": {},
          "execution_count": 56
        },
        {
          "output_type": "display_data",
          "data": {
            "text/plain": [
              "<Figure size 864x432 with 2 Axes>"
            ],
            "image/png": "[encoded data removed]"
          },
          "metadata": {
            "needs_background": "light"
          }
        }
      ]
    }
  ]
}